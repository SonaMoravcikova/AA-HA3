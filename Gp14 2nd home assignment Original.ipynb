{
 "cells": [
  {
   "cell_type": "markdown",
   "id": "f1f97889-6efb-45fd-bde3-de9d62bb6ab8",
   "metadata": {},
   "source": [
    "## Machine Learning Second Home Assignment\n",
    "Group number: 14"
   ]
  },
  {
   "cell_type": "markdown",
   "id": "3f644f8f-866b-431a-945b-db10144f305d",
   "metadata": {},
   "source": [
    "#### Import libraries and dataset"
   ]
  },
  {
   "cell_type": "code",
   "execution_count": 1,
   "id": "c7e759ca-f911-4614-9d32-942547bed1be",
   "metadata": {},
   "outputs": [],
   "source": [
    "# Import libraries\n",
    "import numpy as np\n",
    "import pandas as pd\n",
    "import seaborn as sns\n",
    "import matplotlib.pyplot as plt\n",
    "from sklearn.model_selection import train_test_split\n",
    "from sklearn.impute import SimpleImputer, KNNImputer\n",
    "from sklearn.preprocessing import StandardScaler\n",
    "from sklearn.metrics import accuracy_score, precision_score, recall_score, f1_score, matthews_corrcoef, confusion_matrix, precision_score\n",
    "from sklearn.neighbors import KNeighborsClassifier\n",
    "from sklearn.tree import DecisionTreeClassifier, plot_tree\n",
    "from sklearn.linear_model import LogisticRegression\n",
    "from sklearn.discriminant_analysis import LinearDiscriminantAnalysis, QuadraticDiscriminantAnalysis\n",
    "from sklearn.naive_bayes import GaussianNB"
   ]
  },
  {
   "cell_type": "code",
   "execution_count": 2,
   "id": "81672bd5-371d-4c00-a761-9a0a3915bd3c",
   "metadata": {},
   "outputs": [],
   "source": [
    "# Import dataset\n",
    "df = pd.read_csv(\"Postures.csv\", na_values = \"?\")"
   ]
  },
  {
   "cell_type": "markdown",
   "id": "df04ed19-3894-49ed-aff5-c07e562d914d",
   "metadata": {},
   "source": [
    "### Step 0. Pre-processing the data"
   ]
  },
  {
   "cell_type": "markdown",
   "id": "689aec88-8dcb-4a16-a10d-5fdec51ae327",
   "metadata": {},
   "source": [
    "#### 0.1 Examining dataset"
   ]
  },
  {
   "cell_type": "code",
   "execution_count": 3,
   "id": "9de439ad-e407-4d7d-9397-12f1987c9989",
   "metadata": {},
   "outputs": [
    {
     "data": {
      "text/plain": [
       "(78096, 38)"
      ]
     },
     "execution_count": 3,
     "metadata": {},
     "output_type": "execute_result"
    }
   ],
   "source": [
    "# Dataset shape\n",
    "df.shape"
   ]
  },
  {
   "cell_type": "code",
   "execution_count": 4,
   "id": "f0c156a4-ba76-4736-836e-e30142a86d7d",
   "metadata": {},
   "outputs": [
    {
     "data": {
      "text/html": [
       "<div>\n",
       "<style scoped>\n",
       "    .dataframe tbody tr th:only-of-type {\n",
       "        vertical-align: middle;\n",
       "    }\n",
       "\n",
       "    .dataframe tbody tr th {\n",
       "        vertical-align: top;\n",
       "    }\n",
       "\n",
       "    .dataframe thead th {\n",
       "        text-align: right;\n",
       "    }\n",
       "</style>\n",
       "<table border=\"1\" class=\"dataframe\">\n",
       "  <thead>\n",
       "    <tr style=\"text-align: right;\">\n",
       "      <th></th>\n",
       "      <th>Class</th>\n",
       "      <th>User</th>\n",
       "      <th>X0</th>\n",
       "      <th>Y0</th>\n",
       "      <th>Z0</th>\n",
       "      <th>X1</th>\n",
       "      <th>Y1</th>\n",
       "      <th>Z1</th>\n",
       "      <th>X2</th>\n",
       "      <th>Y2</th>\n",
       "      <th>...</th>\n",
       "      <th>Z8</th>\n",
       "      <th>X9</th>\n",
       "      <th>Y9</th>\n",
       "      <th>Z9</th>\n",
       "      <th>X10</th>\n",
       "      <th>Y10</th>\n",
       "      <th>Z10</th>\n",
       "      <th>X11</th>\n",
       "      <th>Y11</th>\n",
       "      <th>Z11</th>\n",
       "    </tr>\n",
       "  </thead>\n",
       "  <tbody>\n",
       "    <tr>\n",
       "      <th>count</th>\n",
       "      <td>78096.000000</td>\n",
       "      <td>78096.000000</td>\n",
       "      <td>78096.000000</td>\n",
       "      <td>78096.000000</td>\n",
       "      <td>78096.000000</td>\n",
       "      <td>78096.000000</td>\n",
       "      <td>78096.000000</td>\n",
       "      <td>78096.000000</td>\n",
       "      <td>78096.000000</td>\n",
       "      <td>78096.000000</td>\n",
       "      <td>...</td>\n",
       "      <td>30564.000000</td>\n",
       "      <td>23968.000000</td>\n",
       "      <td>23968.000000</td>\n",
       "      <td>23968.000000</td>\n",
       "      <td>14753.000000</td>\n",
       "      <td>14753.000000</td>\n",
       "      <td>14753.000000</td>\n",
       "      <td>32.000000</td>\n",
       "      <td>32.000000</td>\n",
       "      <td>32.000000</td>\n",
       "    </tr>\n",
       "    <tr>\n",
       "      <th>mean</th>\n",
       "      <td>2.983738</td>\n",
       "      <td>7.959127</td>\n",
       "      <td>50.345664</td>\n",
       "      <td>85.812051</td>\n",
       "      <td>-29.984712</td>\n",
       "      <td>49.595209</td>\n",
       "      <td>86.192647</td>\n",
       "      <td>-29.509202</td>\n",
       "      <td>48.612121</td>\n",
       "      <td>83.771315</td>\n",
       "      <td>...</td>\n",
       "      <td>-24.364044</td>\n",
       "      <td>54.746717</td>\n",
       "      <td>80.542435</td>\n",
       "      <td>-27.776883</td>\n",
       "      <td>53.755031</td>\n",
       "      <td>73.998602</td>\n",
       "      <td>-29.735972</td>\n",
       "      <td>-28.769563</td>\n",
       "      <td>25.151977</td>\n",
       "      <td>1.644271</td>\n",
       "    </tr>\n",
       "    <tr>\n",
       "      <th>std</th>\n",
       "      <td>1.421183</td>\n",
       "      <td>4.697810</td>\n",
       "      <td>32.696173</td>\n",
       "      <td>40.204363</td>\n",
       "      <td>34.361918</td>\n",
       "      <td>32.478238</td>\n",
       "      <td>40.453214</td>\n",
       "      <td>34.764398</td>\n",
       "      <td>33.605390</td>\n",
       "      <td>41.023543</td>\n",
       "      <td>...</td>\n",
       "      <td>35.736347</td>\n",
       "      <td>39.970672</td>\n",
       "      <td>42.676118</td>\n",
       "      <td>36.250738</td>\n",
       "      <td>38.461088</td>\n",
       "      <td>42.915225</td>\n",
       "      <td>39.677816</td>\n",
       "      <td>49.754171</td>\n",
       "      <td>36.538582</td>\n",
       "      <td>19.655609</td>\n",
       "    </tr>\n",
       "    <tr>\n",
       "      <th>min</th>\n",
       "      <td>0.000000</td>\n",
       "      <td>0.000000</td>\n",
       "      <td>-108.552738</td>\n",
       "      <td>-98.233756</td>\n",
       "      <td>-126.770872</td>\n",
       "      <td>-111.685241</td>\n",
       "      <td>-96.142589</td>\n",
       "      <td>-166.006838</td>\n",
       "      <td>-106.886524</td>\n",
       "      <td>-100.789312</td>\n",
       "      <td>...</td>\n",
       "      <td>-142.654497</td>\n",
       "      <td>-99.231688</td>\n",
       "      <td>-64.734284</td>\n",
       "      <td>-113.397327</td>\n",
       "      <td>-80.196289</td>\n",
       "      <td>-65.019295</td>\n",
       "      <td>-112.668930</td>\n",
       "      <td>-96.951690</td>\n",
       "      <td>-65.432143</td>\n",
       "      <td>-48.274677</td>\n",
       "    </tr>\n",
       "    <tr>\n",
       "      <th>25%</th>\n",
       "      <td>2.000000</td>\n",
       "      <td>5.000000</td>\n",
       "      <td>29.295062</td>\n",
       "      <td>63.494432</td>\n",
       "      <td>-56.356438</td>\n",
       "      <td>28.755137</td>\n",
       "      <td>64.154529</td>\n",
       "      <td>-57.360107</td>\n",
       "      <td>25.170006</td>\n",
       "      <td>58.052385</td>\n",
       "      <td>...</td>\n",
       "      <td>-52.521279</td>\n",
       "      <td>26.113866</td>\n",
       "      <td>44.034191</td>\n",
       "      <td>-55.618297</td>\n",
       "      <td>20.406693</td>\n",
       "      <td>37.697395</td>\n",
       "      <td>-62.953012</td>\n",
       "      <td>-62.608867</td>\n",
       "      <td>21.795335</td>\n",
       "      <td>-3.829163</td>\n",
       "    </tr>\n",
       "    <tr>\n",
       "      <th>50%</th>\n",
       "      <td>3.000000</td>\n",
       "      <td>9.000000</td>\n",
       "      <td>54.619964</td>\n",
       "      <td>86.526246</td>\n",
       "      <td>-30.864125</td>\n",
       "      <td>54.215514</td>\n",
       "      <td>87.542751</td>\n",
       "      <td>-30.184005</td>\n",
       "      <td>53.814580</td>\n",
       "      <td>86.458324</td>\n",
       "      <td>...</td>\n",
       "      <td>-22.457956</td>\n",
       "      <td>61.992034</td>\n",
       "      <td>84.738571</td>\n",
       "      <td>-26.796695</td>\n",
       "      <td>61.843506</td>\n",
       "      <td>78.987241</td>\n",
       "      <td>-32.909286</td>\n",
       "      <td>-48.524085</td>\n",
       "      <td>38.748102</td>\n",
       "      <td>11.205787</td>\n",
       "    </tr>\n",
       "    <tr>\n",
       "      <th>75%</th>\n",
       "      <td>4.000000</td>\n",
       "      <td>12.000000</td>\n",
       "      <td>72.488686</td>\n",
       "      <td>113.107355</td>\n",
       "      <td>-1.418803</td>\n",
       "      <td>71.762039</td>\n",
       "      <td>116.219398</td>\n",
       "      <td>-0.366692</td>\n",
       "      <td>71.561951</td>\n",
       "      <td>106.660827</td>\n",
       "      <td>...</td>\n",
       "      <td>6.415435</td>\n",
       "      <td>83.766641</td>\n",
       "      <td>115.555248</td>\n",
       "      <td>3.064292</td>\n",
       "      <td>83.054781</td>\n",
       "      <td>100.947816</td>\n",
       "      <td>6.060066</td>\n",
       "      <td>0.645542</td>\n",
       "      <td>40.702633</td>\n",
       "      <td>12.789386</td>\n",
       "    </tr>\n",
       "    <tr>\n",
       "      <th>max</th>\n",
       "      <td>5.000000</td>\n",
       "      <td>14.000000</td>\n",
       "      <td>190.017835</td>\n",
       "      <td>169.175464</td>\n",
       "      <td>113.345119</td>\n",
       "      <td>188.691997</td>\n",
       "      <td>170.209350</td>\n",
       "      <td>104.697852</td>\n",
       "      <td>188.760168</td>\n",
       "      <td>168.186466</td>\n",
       "      <td>...</td>\n",
       "      <td>119.213101</td>\n",
       "      <td>174.054403</td>\n",
       "      <td>167.942588</td>\n",
       "      <td>123.380512</td>\n",
       "      <td>149.486224</td>\n",
       "      <td>168.352478</td>\n",
       "      <td>108.455548</td>\n",
       "      <td>84.683328</td>\n",
       "      <td>127.945490</td>\n",
       "      <td>18.062286</td>\n",
       "    </tr>\n",
       "  </tbody>\n",
       "</table>\n",
       "<p>8 rows × 38 columns</p>\n",
       "</div>"
      ],
      "text/plain": [
       "              Class          User            X0            Y0            Z0  \\\n",
       "count  78096.000000  78096.000000  78096.000000  78096.000000  78096.000000   \n",
       "mean       2.983738      7.959127     50.345664     85.812051    -29.984712   \n",
       "std        1.421183      4.697810     32.696173     40.204363     34.361918   \n",
       "min        0.000000      0.000000   -108.552738    -98.233756   -126.770872   \n",
       "25%        2.000000      5.000000     29.295062     63.494432    -56.356438   \n",
       "50%        3.000000      9.000000     54.619964     86.526246    -30.864125   \n",
       "75%        4.000000     12.000000     72.488686    113.107355     -1.418803   \n",
       "max        5.000000     14.000000    190.017835    169.175464    113.345119   \n",
       "\n",
       "                 X1            Y1            Z1            X2            Y2  \\\n",
       "count  78096.000000  78096.000000  78096.000000  78096.000000  78096.000000   \n",
       "mean      49.595209     86.192647    -29.509202     48.612121     83.771315   \n",
       "std       32.478238     40.453214     34.764398     33.605390     41.023543   \n",
       "min     -111.685241    -96.142589   -166.006838   -106.886524   -100.789312   \n",
       "25%       28.755137     64.154529    -57.360107     25.170006     58.052385   \n",
       "50%       54.215514     87.542751    -30.184005     53.814580     86.458324   \n",
       "75%       71.762039    116.219398     -0.366692     71.561951    106.660827   \n",
       "max      188.691997    170.209350    104.697852    188.760168    168.186466   \n",
       "\n",
       "       ...            Z8            X9            Y9            Z9  \\\n",
       "count  ...  30564.000000  23968.000000  23968.000000  23968.000000   \n",
       "mean   ...    -24.364044     54.746717     80.542435    -27.776883   \n",
       "std    ...     35.736347     39.970672     42.676118     36.250738   \n",
       "min    ...   -142.654497    -99.231688    -64.734284   -113.397327   \n",
       "25%    ...    -52.521279     26.113866     44.034191    -55.618297   \n",
       "50%    ...    -22.457956     61.992034     84.738571    -26.796695   \n",
       "75%    ...      6.415435     83.766641    115.555248      3.064292   \n",
       "max    ...    119.213101    174.054403    167.942588    123.380512   \n",
       "\n",
       "                X10           Y10           Z10        X11         Y11  \\\n",
       "count  14753.000000  14753.000000  14753.000000  32.000000   32.000000   \n",
       "mean      53.755031     73.998602    -29.735972 -28.769563   25.151977   \n",
       "std       38.461088     42.915225     39.677816  49.754171   36.538582   \n",
       "min      -80.196289    -65.019295   -112.668930 -96.951690  -65.432143   \n",
       "25%       20.406693     37.697395    -62.953012 -62.608867   21.795335   \n",
       "50%       61.843506     78.987241    -32.909286 -48.524085   38.748102   \n",
       "75%       83.054781    100.947816      6.060066   0.645542   40.702633   \n",
       "max      149.486224    168.352478    108.455548  84.683328  127.945490   \n",
       "\n",
       "             Z11  \n",
       "count  32.000000  \n",
       "mean    1.644271  \n",
       "std    19.655609  \n",
       "min   -48.274677  \n",
       "25%    -3.829163  \n",
       "50%    11.205787  \n",
       "75%    12.789386  \n",
       "max    18.062286  \n",
       "\n",
       "[8 rows x 38 columns]"
      ]
     },
     "execution_count": 4,
     "metadata": {},
     "output_type": "execute_result"
    }
   ],
   "source": [
    "# Dataset basic descriptive statistics\n",
    "df.describe()"
   ]
  },
  {
   "cell_type": "markdown",
   "id": "23f85c35-ea29-4064-8141-1b199deb805a",
   "metadata": {},
   "source": [
    "#### 0.2 Eliminate first row, transform \"User\" variable into cathegorical and check if the dependent variable \"Class\" contains no missing values"
   ]
  },
  {
   "cell_type": "code",
   "execution_count": 5,
   "id": "ba359993-2796-4265-aaf8-5434dc547b05",
   "metadata": {},
   "outputs": [],
   "source": [
    "# Eliminate the first row of the data set as there are only Zeros\n",
    "df = df.tail(-1)"
   ]
  },
  {
   "cell_type": "code",
   "execution_count": 6,
   "id": "723db02b-69b4-4287-b5b4-5a931ec435d5",
   "metadata": {},
   "outputs": [],
   "source": [
    "#  Transform \"User\" variable into cathegorical\n",
    "df['User'] = pd.Categorical(df.User)"
   ]
  },
  {
   "cell_type": "code",
   "execution_count": 7,
   "id": "a84ef672-9470-447f-b01a-aa067ee861a2",
   "metadata": {},
   "outputs": [
    {
     "data": {
      "text/html": [
       "<div>\n",
       "<style scoped>\n",
       "    .dataframe tbody tr th:only-of-type {\n",
       "        vertical-align: middle;\n",
       "    }\n",
       "\n",
       "    .dataframe tbody tr th {\n",
       "        vertical-align: top;\n",
       "    }\n",
       "\n",
       "    .dataframe thead th {\n",
       "        text-align: right;\n",
       "    }\n",
       "</style>\n",
       "<table border=\"1\" class=\"dataframe\">\n",
       "  <thead>\n",
       "    <tr style=\"text-align: right;\">\n",
       "      <th></th>\n",
       "      <th>Class</th>\n",
       "      <th>User</th>\n",
       "      <th>X0</th>\n",
       "      <th>Y0</th>\n",
       "      <th>Z0</th>\n",
       "      <th>X1</th>\n",
       "      <th>Y1</th>\n",
       "      <th>Z1</th>\n",
       "      <th>X2</th>\n",
       "      <th>Y2</th>\n",
       "      <th>...</th>\n",
       "      <th>Z8</th>\n",
       "      <th>X9</th>\n",
       "      <th>Y9</th>\n",
       "      <th>Z9</th>\n",
       "      <th>X10</th>\n",
       "      <th>Y10</th>\n",
       "      <th>Z10</th>\n",
       "      <th>X11</th>\n",
       "      <th>Y11</th>\n",
       "      <th>Z11</th>\n",
       "    </tr>\n",
       "  </thead>\n",
       "  <tbody>\n",
       "  </tbody>\n",
       "</table>\n",
       "<p>0 rows × 38 columns</p>\n",
       "</div>"
      ],
      "text/plain": [
       "Empty DataFrame\n",
       "Columns: [Class, User, X0, Y0, Z0, X1, Y1, Z1, X2, Y2, Z2, X3, Y3, Z3, X4, Y4, Z4, X5, Y5, Z5, X6, Y6, Z6, X7, Y7, Z7, X8, Y8, Z8, X9, Y9, Z9, X10, Y10, Z10, X11, Y11, Z11]\n",
       "Index: []\n",
       "\n",
       "[0 rows x 38 columns]"
      ]
     },
     "execution_count": 7,
     "metadata": {},
     "output_type": "execute_result"
    }
   ],
   "source": [
    "# Check whether the dependent variable \"Class\" contains missing values\n",
    "df[df['Class'].isna()]"
   ]
  },
  {
   "cell_type": "markdown",
   "id": "42f574e8-bc34-4737-97e1-ef476dab9106",
   "metadata": {},
   "source": [
    "### Step 1. Split the data set into a training and testing set"
   ]
  },
  {
   "cell_type": "markdown",
   "id": "d6e9b4bf-eba7-4d20-bb2f-dc1510b4b0de",
   "metadata": {},
   "source": [
    "+ Before setting up the training and testing sets, we split the dataset into a TRAIN Set and an Independent Validation Set (IVS)"
   ]
  },
  {
   "cell_type": "code",
   "execution_count": 8,
   "id": "ff0ee26e-0e62-47b4-8ba2-db4de099fcba",
   "metadata": {},
   "outputs": [],
   "source": [
    "# Splitting the dataset into TRAIN set (train and test) and an IVS (Independent Validation Set)\n",
    "X = df.drop(columns=['Class']) \n",
    "y = df['Class']\n",
    "X_TRAIN, X_IVS, y_TRAIN, y_IVS = train_test_split(X, y, test_size = 0.25, random_state = 4)"
   ]
  },
  {
   "cell_type": "code",
   "execution_count": 9,
   "id": "d501c68e-a1b7-4f0c-bbbf-0e92997bebba",
   "metadata": {},
   "outputs": [
    {
     "name": "stdout",
     "output_type": "stream",
     "text": [
      "Nr. of instances in class  1 ---> 12202\n",
      "Nr. of instances in class  2 ---> 11225\n",
      "Nr. of instances in class  3 ---> 12159\n",
      "Nr. of instances in class  4 ---> 11118\n",
      "Nr. of instances in class  5 ---> 11867\n"
     ]
    }
   ],
   "source": [
    "# Print the number of instances in each class\n",
    "vals, counts= np.unique(y_TRAIN, return_counts=True)\n",
    "for v, c in zip(vals, counts):\n",
    "    print(\"Nr. of instances in class \", v, \"--->\", c)"
   ]
  },
  {
   "cell_type": "markdown",
   "id": "5f1988a4-709a-4e13-8f12-8aca0e082c20",
   "metadata": {},
   "source": [
    "+ Next we split the TRAIN into a training and testing sets for Simple Cross Validation. The same data partition, testing = 25%, is used for evaluating all models."
   ]
  },
  {
   "cell_type": "code",
   "execution_count": 10,
   "id": "a21c16a5-0c88-459a-baa8-d9838f591a5b",
   "metadata": {},
   "outputs": [],
   "source": [
    "# Splitting the data set into a training and testing set\n",
    "X_train, X_test, y_train, y_test = train_test_split(X_TRAIN, y_TRAIN, test_size = 0.25, random_state = 4)"
   ]
  },
  {
   "cell_type": "markdown",
   "id": "26568d33-ab8a-4735-bbeb-f6311987cffc",
   "metadata": {},
   "source": [
    "### Step 2. Scale the data"
   ]
  },
  {
   "cell_type": "code",
   "execution_count": 11,
   "id": "98423229-19e0-406f-9a83-c3816215f17e",
   "metadata": {},
   "outputs": [],
   "source": [
    "# Scale the data using StandardScaler\n",
    "columns = list(X_train.columns.values)\n",
    "scaler   = StandardScaler()\n",
    "scaler.fit(X_train)\n",
    "Xt_train = pd.DataFrame(scaler.transform(X_train), columns = columns)\n",
    "Xt_test  = pd.DataFrame(scaler.transform(X_test), columns = columns)"
   ]
  },
  {
   "cell_type": "markdown",
   "id": "db7b0c14-e2e6-4826-b616-364405108290",
   "metadata": {},
   "source": [
    "### Step 3. Dealing with missing values"
   ]
  },
  {
   "cell_type": "markdown",
   "id": "14bfd02d-7029-4723-b601-1e7190aebc26",
   "metadata": {},
   "source": [
    "#### 3.1 Dropping columns with more than 50% of missing values"
   ]
  },
  {
   "cell_type": "code",
   "execution_count": 12,
   "id": "9c5340e3-56f7-4a19-8aa6-37fa8ca99ef5",
   "metadata": {},
   "outputs": [],
   "source": [
    "# Define cutoff point\n",
    "threshold = 0.5\n",
    "\n",
    "# Calculate % of missing values\n",
    "columns = list(Xt_train.columns.values)\n",
    "missing = Xt_train.isna().sum()/ len(Xt_train)\n",
    "missing.index = columns\n",
    "\n",
    "# Determine variables to drop\n",
    "elim_var = missing.loc[missing > threshold]\n",
    "elim_var_names = list(elim_var.index.values)\n",
    "\n",
    "# Drop variables with % missing values > threshold\n",
    "Xt_train = Xt_train.drop(columns = elim_var_names, axis = 1)\n",
    "Xt_test = Xt_test.drop(columns = elim_var_names, axis = 1)"
   ]
  },
  {
   "cell_type": "markdown",
   "id": "74007625-e119-4868-af9f-f8620e01e897",
   "metadata": {},
   "source": [
    "#### 3.2 Imputation of missing values"
   ]
  },
  {
   "cell_type": "markdown",
   "id": "76da6edd-9b52-4a82-a1bf-bd2307fdb655",
   "metadata": {},
   "source": [
    "We perform a multivariate imputation with KNN, where for each feature with missing values a model is generated using all the other available features"
   ]
  },
  {
   "cell_type": "code",
   "execution_count": 13,
   "id": "0383ca74-2123-4354-8ee4-8be79c3f5fc2",
   "metadata": {},
   "outputs": [],
   "source": [
    "# Perform a multivariate imputation with KNN\n",
    "imputer = KNNImputer(n_neighbors = 2, weights = \"uniform\")\n",
    "imputer.fit(Xt_train)\n",
    "Xtt_train = imputer.transform(Xt_train)\n",
    "Xtt_test  = imputer.transform(Xt_test)"
   ]
  },
  {
   "cell_type": "markdown",
   "id": "e4b3cb65-b48d-499c-af13-f2c13601f7b4",
   "metadata": {},
   "source": [
    "### Step 4. Fitting the models"
   ]
  },
  {
   "cell_type": "markdown",
   "id": "2f3cf3af-e540-4324-93b7-349ff9c33981",
   "metadata": {},
   "source": [
    "#### 4.1 Linear models"
   ]
  },
  {
   "cell_type": "markdown",
   "id": "f6e414e8-573b-458d-bcb6-7765d6390c6f",
   "metadata": {},
   "source": [
    "##### 4.1.1 Logistic Regression"
   ]
  },
  {
   "cell_type": "code",
   "execution_count": 14,
   "id": "7cef78a0-a563-4bca-a099-dd7d02d47707",
   "metadata": {},
   "outputs": [],
   "source": [
    "# Create an empty list to store the results\n",
    "res_lr = []\n",
    "\n",
    "# Define a list of hyperparameters to test\n",
    "c_range = [0.0001, 0.001, 0.01, 0.1, 1]\n",
    "\n",
    "# Loop through the hyperparameter combinations and calculate Accuracy and MCC for each model\n",
    "for C in c_range:\n",
    "    model_name_lr = f'Logistic Regression (L2) (C={C})'\n",
    "    if not any(result_lr['Model Name'] == model_name_lr for result_lr in res_lr):\n",
    "        model_lr = LogisticRegression(max_iter = 100000, C = C, random_state = 4)\n",
    "        model_lr = model_lr.fit(Xtt_train, y_train)\n",
    "        preds_lr = model_lr.predict(Xtt_test)\n",
    "        res_lr.append({'Model Name': model_name_lr, 'Accuracy': accuracy_score(y_test, preds_lr), 'MCC': matthews_corrcoef(y_test, preds_lr)})"
   ]
  },
  {
   "cell_type": "markdown",
   "id": "d075b468-e3cd-4884-b734-dd24b2569776",
   "metadata": {},
   "source": [
    "##### 4.1.2 Linear Discriminant Analysis"
   ]
  },
  {
   "cell_type": "code",
   "execution_count": 16,
   "id": "e8b4584e-8e5c-4dc7-b892-e0acc10c47ca",
   "metadata": {},
   "outputs": [],
   "source": [
    "# Create an empty list to store the results\n",
    "res_lda = []\n",
    "\n",
    "# Define a list of hyperparameters to test\n",
    "solver = [\"svd\", \"lsqr\", \"eigen\"]\n",
    "\n",
    "# Loop through the hyperparameter combinations and calculate Accuracy and MCC for each model\n",
    "for solver in solver:\n",
    "    model_name_lda = f'Linear Discriminant Analyss (solver={solver})'\n",
    "    if not any(result_lda['Model Name'] == model_name_lda for result_lda in res_lda):\n",
    "        model_lda = LinearDiscriminantAnalysis(solver = solver)\n",
    "        model_lda = model_lda.fit(Xtt_train, y_train)\n",
    "        preds_lda = model_lda.predict(Xtt_test)\n",
    "        res_lda.append({'Model Name': model_name_lda, 'Accuracy': accuracy_score(y_test, preds_lda), 'MCC': matthews_corrcoef(y_test, preds_lda)})"
   ]
  },
  {
   "cell_type": "markdown",
   "id": "73e31d10-d25a-426b-a7ef-6c81ca9334c2",
   "metadata": {},
   "source": [
    "##### 4.1.3 Quadratic Discriminant Analysis"
   ]
  },
  {
   "cell_type": "code",
   "execution_count": 17,
   "id": "331eab67-c0db-408f-88ff-676188924434",
   "metadata": {},
   "outputs": [],
   "source": [
    "# Create an empty DataFrame to store the results\n",
    "res_qda = []\n",
    "\n",
    "# Calculate Accuracy and MCC for the model\n",
    "model_name_qda = f' Quadratic Discriminant Analysis '\n",
    "model_qda = QuadraticDiscriminantAnalysis()\n",
    "model_qda.fit(Xtt_train, y_train)\n",
    "preds_qda = model_qda.predict(Xtt_test)\n",
    "res_qda.append({'Model Name': model_name_qda, 'Accuracy': accuracy_score(y_test, preds_qda), 'MCC': matthews_corrcoef(y_test, preds_qda)})"
   ]
  },
  {
   "cell_type": "markdown",
   "id": "bcf41e15-3c35-433c-866f-69a2db5c2da5",
   "metadata": {},
   "source": [
    "#### 4.2 Tree Based models"
   ]
  },
  {
   "cell_type": "code",
   "execution_count": 18,
   "id": "f887c667-f44d-4ef0-ba8e-5584d7a1baf8",
   "metadata": {},
   "outputs": [],
   "source": [
    "# Create an empty DataFrame to store the results\n",
    "res_dt = []\n",
    "\n",
    "# Define a list of hyperparameters to test\n",
    "min_samples_leaf_range = [1, 5, 10]\n",
    "max_depth_range = [10, 15, 20, 25]\n",
    "\n",
    "# Loop through the models and calculate F1 and MCC for each\n",
    "for msl in min_samples_leaf_range:\n",
    "    for md in max_depth_range:\n",
    "        model_name_dt = f'Decision Tree (msl={msl}, max_depth={md})'\n",
    "        if not any(result_dt['Model Name'] == model_name_dt for result_dt in res_dt):\n",
    "            model_dt = DecisionTreeClassifier(min_samples_leaf = msl, max_depth = md, random_state = 4)\n",
    "            model_dt = model_dt.fit(Xtt_train, y_train)\n",
    "            preds_dt = model_dt.predict(Xtt_test)\n",
    "            res_dt.append({'Model Name': model_name_dt, 'Accuracy': accuracy_score(y_test, preds_dt), 'MCC': matthews_corrcoef(y_test, preds_dt)})"
   ]
  },
  {
   "cell_type": "markdown",
   "id": "d96e42a2-4687-490a-826e-ddfc3468763d",
   "metadata": {},
   "source": [
    "#### 4.3 Naive Bayes"
   ]
  },
  {
   "cell_type": "code",
   "execution_count": 19,
   "id": "e5208aa5-0b7b-4647-81b3-f07cd53f7dba",
   "metadata": {},
   "outputs": [],
   "source": [
    "# Create an empty DataFrame to store the results\n",
    "res_nb = []\n",
    "\n",
    "# Calculate Accuracy and MCC for the model\n",
    "model_name_nb = f' Gaussian Naive Bayes '\n",
    "model_nb = GaussianNB()\n",
    "model_nb.fit(Xtt_train, y_train)\n",
    "preds_nb = model_nb.predict(Xtt_test)\n",
    "res_nb.append({'Model Name': model_name_nb, 'Accuracy': accuracy_score(y_test, preds_nb), 'MCC': matthews_corrcoef(y_test, preds_nb)})"
   ]
  },
  {
   "cell_type": "markdown",
   "id": "f33befc3-f561-42e5-90d7-60256033c7f6",
   "metadata": {},
   "source": [
    "#### 4.4 K-Nearest Neighbours"
   ]
  },
  {
   "cell_type": "code",
   "execution_count": 20,
   "id": "28f1627b-8fe1-4217-8420-1eac45d6b454",
   "metadata": {},
   "outputs": [],
   "source": [
    "# Create an empty DataFrame to store the results\n",
    "res_knn = []\n",
    "\n",
    "# Define a list of hyperparameters to test\n",
    "ks = np.array([1, 2, 3, 4, 5, 10, 15, 20, 30, 40])\n",
    "\n",
    "# Loop through differente k's and calculate Accuracy and MCC for each model\n",
    "for k in ks:\n",
    "    model_name_knn = f'KNN (k={k})'\n",
    "    if not any(result_knn['Model Name'] == model_name_knn for result_knn in res_knn):\n",
    "        model_knn = KNeighborsClassifier(n_neighbors = k)\n",
    "        model_knn.fit(Xtt_train, y_train)\n",
    "        preds_knn = model_knn.predict(Xtt_test)\n",
    "        res_knn.append({'Model Name': model_name_knn, 'Accuracy': accuracy_score(y_test, preds_knn), 'MCC': matthews_corrcoef(y_test, preds_knn)})"
   ]
  },
  {
   "cell_type": "markdown",
   "id": "fa1e1886-0a3b-4bb2-89e2-a1561b2a77f0",
   "metadata": {},
   "source": [
    "### Step 5. Assessing the quality of the models"
   ]
  },
  {
   "cell_type": "markdown",
   "id": "2b2d8ed9-f6a3-44dd-9514-95c45d700d09",
   "metadata": {},
   "source": [
    "#### 5.1 Linear models"
   ]
  },
  {
   "cell_type": "markdown",
   "id": "daf3745d-dba7-4f56-83d4-458952463d3e",
   "metadata": {},
   "source": [
    "##### 5.1.1 Logistic Regression"
   ]
  },
  {
   "cell_type": "code",
   "execution_count": 21,
   "id": "d7cd5ba0-0729-44ac-9a55-ea8e51dd7f1e",
   "metadata": {},
   "outputs": [
    {
     "data": {
      "text/html": [
       "<div>\n",
       "<style scoped>\n",
       "    .dataframe tbody tr th:only-of-type {\n",
       "        vertical-align: middle;\n",
       "    }\n",
       "\n",
       "    .dataframe tbody tr th {\n",
       "        vertical-align: top;\n",
       "    }\n",
       "\n",
       "    .dataframe thead th {\n",
       "        text-align: right;\n",
       "    }\n",
       "</style>\n",
       "<table border=\"1\" class=\"dataframe\">\n",
       "  <thead>\n",
       "    <tr style=\"text-align: right;\">\n",
       "      <th></th>\n",
       "      <th>Model Name</th>\n",
       "      <th>Accuracy</th>\n",
       "      <th>MCC</th>\n",
       "    </tr>\n",
       "  </thead>\n",
       "  <tbody>\n",
       "    <tr>\n",
       "      <th>4</th>\n",
       "      <td>Logistic Regression (L2) (C=1)</td>\n",
       "      <td>0.730588</td>\n",
       "      <td>0.663235</td>\n",
       "    </tr>\n",
       "    <tr>\n",
       "      <th>3</th>\n",
       "      <td>Logistic Regression (L2) (C=0.1)</td>\n",
       "      <td>0.729973</td>\n",
       "      <td>0.662464</td>\n",
       "    </tr>\n",
       "    <tr>\n",
       "      <th>2</th>\n",
       "      <td>Logistic Regression (L2) (C=0.01)</td>\n",
       "      <td>0.729222</td>\n",
       "      <td>0.661545</td>\n",
       "    </tr>\n",
       "    <tr>\n",
       "      <th>1</th>\n",
       "      <td>Logistic Regression (L2) (C=0.001)</td>\n",
       "      <td>0.715427</td>\n",
       "      <td>0.644466</td>\n",
       "    </tr>\n",
       "  </tbody>\n",
       "</table>\n",
       "</div>"
      ],
      "text/plain": [
       "                           Model Name  Accuracy       MCC\n",
       "4      Logistic Regression (L2) (C=1)  0.730588  0.663235\n",
       "3    Logistic Regression (L2) (C=0.1)  0.729973  0.662464\n",
       "2   Logistic Regression (L2) (C=0.01)  0.729222  0.661545\n",
       "1  Logistic Regression (L2) (C=0.001)  0.715427  0.644466"
      ]
     },
     "execution_count": 21,
     "metadata": {},
     "output_type": "execute_result"
    }
   ],
   "source": [
    "# Create a DataFrame from the list of logistic regression results\n",
    "Best_lr = pd.DataFrame(res_lr)\n",
    "Best_lr = Best_lr.sort_values(by=\"MCC\", ascending=False)\n",
    "\n",
    "# Examine Top 4 models\n",
    "Best_lr[:4]"
   ]
  },
  {
   "cell_type": "markdown",
   "id": "71b0725a-794e-4419-9f90-2c7bf2820109",
   "metadata": {},
   "source": [
    "##### 5.1.2 Linear Discriminant Analysis"
   ]
  },
  {
   "cell_type": "code",
   "execution_count": 22,
   "id": "9404e8b4-0039-4989-b8d3-765f60b3de41",
   "metadata": {},
   "outputs": [
    {
     "data": {
      "text/html": [
       "<div>\n",
       "<style scoped>\n",
       "    .dataframe tbody tr th:only-of-type {\n",
       "        vertical-align: middle;\n",
       "    }\n",
       "\n",
       "    .dataframe tbody tr th {\n",
       "        vertical-align: top;\n",
       "    }\n",
       "\n",
       "    .dataframe thead th {\n",
       "        text-align: right;\n",
       "    }\n",
       "</style>\n",
       "<table border=\"1\" class=\"dataframe\">\n",
       "  <thead>\n",
       "    <tr style=\"text-align: right;\">\n",
       "      <th></th>\n",
       "      <th>Model Name</th>\n",
       "      <th>Accuracy</th>\n",
       "      <th>MCC</th>\n",
       "    </tr>\n",
       "  </thead>\n",
       "  <tbody>\n",
       "    <tr>\n",
       "      <th>0</th>\n",
       "      <td>Linear Discriminant Analyss (solver=svd)</td>\n",
       "      <td>0.712764</td>\n",
       "      <td>0.641084</td>\n",
       "    </tr>\n",
       "    <tr>\n",
       "      <th>1</th>\n",
       "      <td>Linear Discriminant Analyss (solver=lsqr)</td>\n",
       "      <td>0.712764</td>\n",
       "      <td>0.641084</td>\n",
       "    </tr>\n",
       "    <tr>\n",
       "      <th>2</th>\n",
       "      <td>Linear Discriminant Analyss (solver=eigen)</td>\n",
       "      <td>0.712764</td>\n",
       "      <td>0.641084</td>\n",
       "    </tr>\n",
       "  </tbody>\n",
       "</table>\n",
       "</div>"
      ],
      "text/plain": [
       "                                   Model Name  Accuracy       MCC\n",
       "0    Linear Discriminant Analyss (solver=svd)  0.712764  0.641084\n",
       "1   Linear Discriminant Analyss (solver=lsqr)  0.712764  0.641084\n",
       "2  Linear Discriminant Analyss (solver=eigen)  0.712764  0.641084"
      ]
     },
     "execution_count": 22,
     "metadata": {},
     "output_type": "execute_result"
    }
   ],
   "source": [
    "# Create a DataFrame from the list of logistic regression results\n",
    "Best_lda = pd.DataFrame(res_lda)\n",
    "Best_lda = Best_lda.sort_values(by=\"MCC\", ascending=False)\n",
    "\n",
    "# Examine Top 3 models\n",
    "Best_lda[:3]"
   ]
  },
  {
   "cell_type": "markdown",
   "id": "4c5ee23a-9fee-47f4-b359-79bb57e602a8",
   "metadata": {},
   "source": [
    "##### 5.1.3 Quadratic Discriminant Analysis"
   ]
  },
  {
   "cell_type": "code",
   "execution_count": 23,
   "id": "ece78999-cce3-41b9-9bcc-adfad53f85a5",
   "metadata": {},
   "outputs": [
    {
     "data": {
      "text/html": [
       "<div>\n",
       "<style scoped>\n",
       "    .dataframe tbody tr th:only-of-type {\n",
       "        vertical-align: middle;\n",
       "    }\n",
       "\n",
       "    .dataframe tbody tr th {\n",
       "        vertical-align: top;\n",
       "    }\n",
       "\n",
       "    .dataframe thead th {\n",
       "        text-align: right;\n",
       "    }\n",
       "</style>\n",
       "<table border=\"1\" class=\"dataframe\">\n",
       "  <thead>\n",
       "    <tr style=\"text-align: right;\">\n",
       "      <th></th>\n",
       "      <th>Model Name</th>\n",
       "      <th>Accuracy</th>\n",
       "      <th>MCC</th>\n",
       "    </tr>\n",
       "  </thead>\n",
       "  <tbody>\n",
       "    <tr>\n",
       "      <th>0</th>\n",
       "      <td>Quadratic Discriminant Analysis</td>\n",
       "      <td>0.859865</td>\n",
       "      <td>0.825506</td>\n",
       "    </tr>\n",
       "  </tbody>\n",
       "</table>\n",
       "</div>"
      ],
      "text/plain": [
       "                          Model Name  Accuracy       MCC\n",
       "0   Quadratic Discriminant Analysis   0.859865  0.825506"
      ]
     },
     "execution_count": 23,
     "metadata": {},
     "output_type": "execute_result"
    }
   ],
   "source": [
    "# Create a DataFrame from the list of results\n",
    "Best_qda = pd.DataFrame(res_qda)\n",
    "Best_qda = Best_qda.sort_values(by=\"MCC\", ascending=False)\n",
    "\n",
    "# Examine model result\n",
    "Best_qda[:1]"
   ]
  },
  {
   "cell_type": "markdown",
   "id": "cc98731f-3caf-4106-929d-1d1758dead4f",
   "metadata": {},
   "source": [
    "#### 5.2 Tree Based models"
   ]
  },
  {
   "cell_type": "code",
   "execution_count": 24,
   "id": "82c447a9-2543-4c6a-8e50-7b7da09f7e42",
   "metadata": {},
   "outputs": [
    {
     "data": {
      "text/html": [
       "<div>\n",
       "<style scoped>\n",
       "    .dataframe tbody tr th:only-of-type {\n",
       "        vertical-align: middle;\n",
       "    }\n",
       "\n",
       "    .dataframe tbody tr th {\n",
       "        vertical-align: top;\n",
       "    }\n",
       "\n",
       "    .dataframe thead th {\n",
       "        text-align: right;\n",
       "    }\n",
       "</style>\n",
       "<table border=\"1\" class=\"dataframe\">\n",
       "  <thead>\n",
       "    <tr style=\"text-align: right;\">\n",
       "      <th></th>\n",
       "      <th>Model Name</th>\n",
       "      <th>Accuracy</th>\n",
       "      <th>MCC</th>\n",
       "    </tr>\n",
       "  </thead>\n",
       "  <tbody>\n",
       "    <tr>\n",
       "      <th>3</th>\n",
       "      <td>Decision Tree (msl=1, max_depth=25)</td>\n",
       "      <td>0.889230</td>\n",
       "      <td>0.861494</td>\n",
       "    </tr>\n",
       "    <tr>\n",
       "      <th>2</th>\n",
       "      <td>Decision Tree (msl=1, max_depth=20)</td>\n",
       "      <td>0.887591</td>\n",
       "      <td>0.859433</td>\n",
       "    </tr>\n",
       "    <tr>\n",
       "      <th>1</th>\n",
       "      <td>Decision Tree (msl=1, max_depth=15)</td>\n",
       "      <td>0.879123</td>\n",
       "      <td>0.848846</td>\n",
       "    </tr>\n",
       "    <tr>\n",
       "      <th>7</th>\n",
       "      <td>Decision Tree (msl=5, max_depth=25)</td>\n",
       "      <td>0.870587</td>\n",
       "      <td>0.838185</td>\n",
       "    </tr>\n",
       "  </tbody>\n",
       "</table>\n",
       "</div>"
      ],
      "text/plain": [
       "                            Model Name  Accuracy       MCC\n",
       "3  Decision Tree (msl=1, max_depth=25)  0.889230  0.861494\n",
       "2  Decision Tree (msl=1, max_depth=20)  0.887591  0.859433\n",
       "1  Decision Tree (msl=1, max_depth=15)  0.879123  0.848846\n",
       "7  Decision Tree (msl=5, max_depth=25)  0.870587  0.838185"
      ]
     },
     "execution_count": 24,
     "metadata": {},
     "output_type": "execute_result"
    }
   ],
   "source": [
    "# Create a DataFrame from the list of results\n",
    "Best_dt = pd.DataFrame(res_dt)\n",
    "Best_dt = Best_dt.sort_values(by=\"MCC\", ascending=False)\n",
    "\n",
    "# Examine Top 4 models\n",
    "Best_dt[:4]"
   ]
  },
  {
   "cell_type": "markdown",
   "id": "72acb76e-9d56-4cb8-a2c7-bd460bd9723b",
   "metadata": {},
   "source": [
    "#### 5.3 Naive Bayes"
   ]
  },
  {
   "cell_type": "code",
   "execution_count": 25,
   "id": "966c0bf1-b10f-473b-ac5e-73b736b64138",
   "metadata": {},
   "outputs": [
    {
     "data": {
      "text/html": [
       "<div>\n",
       "<style scoped>\n",
       "    .dataframe tbody tr th:only-of-type {\n",
       "        vertical-align: middle;\n",
       "    }\n",
       "\n",
       "    .dataframe tbody tr th {\n",
       "        vertical-align: top;\n",
       "    }\n",
       "\n",
       "    .dataframe thead th {\n",
       "        text-align: right;\n",
       "    }\n",
       "</style>\n",
       "<table border=\"1\" class=\"dataframe\">\n",
       "  <thead>\n",
       "    <tr style=\"text-align: right;\">\n",
       "      <th></th>\n",
       "      <th>Model Name</th>\n",
       "      <th>Accuracy</th>\n",
       "      <th>MCC</th>\n",
       "    </tr>\n",
       "  </thead>\n",
       "  <tbody>\n",
       "    <tr>\n",
       "      <th>0</th>\n",
       "      <td>Gaussian Naive Bayes</td>\n",
       "      <td>0.707642</td>\n",
       "      <td>0.635548</td>\n",
       "    </tr>\n",
       "  </tbody>\n",
       "</table>\n",
       "</div>"
      ],
      "text/plain": [
       "               Model Name  Accuracy       MCC\n",
       "0   Gaussian Naive Bayes   0.707642  0.635548"
      ]
     },
     "execution_count": 25,
     "metadata": {},
     "output_type": "execute_result"
    }
   ],
   "source": [
    "# Create a DataFrame from the list of results\n",
    "Best_nb = pd.DataFrame(res_nb)\n",
    "Best_nb = Best_nb.sort_values(by=\"MCC\", ascending=False)\n",
    "\n",
    "# Examine model result\n",
    "Best_nb[:1]"
   ]
  },
  {
   "cell_type": "markdown",
   "id": "b08b2c22-0de4-43eb-9b23-8efe5867150c",
   "metadata": {},
   "source": [
    "#### 5.4 K-Nearest Neighbours"
   ]
  },
  {
   "cell_type": "code",
   "execution_count": 26,
   "id": "b9f12089-ebbb-4720-8447-c8a19ce15ee4",
   "metadata": {},
   "outputs": [
    {
     "data": {
      "text/html": [
       "<div>\n",
       "<style scoped>\n",
       "    .dataframe tbody tr th:only-of-type {\n",
       "        vertical-align: middle;\n",
       "    }\n",
       "\n",
       "    .dataframe tbody tr th {\n",
       "        vertical-align: top;\n",
       "    }\n",
       "\n",
       "    .dataframe thead th {\n",
       "        text-align: right;\n",
       "    }\n",
       "</style>\n",
       "<table border=\"1\" class=\"dataframe\">\n",
       "  <thead>\n",
       "    <tr style=\"text-align: right;\">\n",
       "      <th></th>\n",
       "      <th>Model Name</th>\n",
       "      <th>Accuracy</th>\n",
       "      <th>MCC</th>\n",
       "    </tr>\n",
       "  </thead>\n",
       "  <tbody>\n",
       "    <tr>\n",
       "      <th>0</th>\n",
       "      <td>KNN (k=1)</td>\n",
       "      <td>0.919006</td>\n",
       "      <td>0.898893</td>\n",
       "    </tr>\n",
       "    <tr>\n",
       "      <th>2</th>\n",
       "      <td>KNN (k=3)</td>\n",
       "      <td>0.909855</td>\n",
       "      <td>0.887661</td>\n",
       "    </tr>\n",
       "    <tr>\n",
       "      <th>4</th>\n",
       "      <td>KNN (k=5)</td>\n",
       "      <td>0.903025</td>\n",
       "      <td>0.879313</td>\n",
       "    </tr>\n",
       "    <tr>\n",
       "      <th>1</th>\n",
       "      <td>KNN (k=2)</td>\n",
       "      <td>0.899133</td>\n",
       "      <td>0.875424</td>\n",
       "    </tr>\n",
       "  </tbody>\n",
       "</table>\n",
       "</div>"
      ],
      "text/plain": [
       "  Model Name  Accuracy       MCC\n",
       "0  KNN (k=1)  0.919006  0.898893\n",
       "2  KNN (k=3)  0.909855  0.887661\n",
       "4  KNN (k=5)  0.903025  0.879313\n",
       "1  KNN (k=2)  0.899133  0.875424"
      ]
     },
     "execution_count": 26,
     "metadata": {},
     "output_type": "execute_result"
    }
   ],
   "source": [
    "# Create a DataFrame from the list of results\n",
    "Best_knn = pd.DataFrame(res_knn)\n",
    "Best_knn = Best_knn.sort_values(by=\"MCC\", ascending=False)\n",
    "\n",
    "# Examine model result\n",
    "Best_knn[:4]"
   ]
  },
  {
   "cell_type": "code",
   "execution_count": 27,
   "id": "aa1b965c-e748-49ea-8132-6affcceb9837",
   "metadata": {},
   "outputs": [
    {
     "data": {
      "image/png": "[encoded data removed]",
      "text/plain": [
       "<Figure size 640x480 with 1 Axes>"
      ]
     },
     "metadata": {},
     "output_type": "display_data"
    }
   ],
   "source": [
    "# Define a set of K neighbours\n",
    "ks = np.array([1, 2, 3, 4, 5, 10, 15, 20, 30, 40])\n",
    "accs = np.zeros(ks.shape[0])\n",
    "mccs = np.zeros(ks.shape[0])\n",
    "\n",
    "# Loop through differente k's and calculate Accuracy Score\n",
    "for i,k in enumerate(ks):\n",
    "    model_knn = KNeighborsClassifier(n_neighbors=k)\n",
    "    model_knn.fit(Xtt_train, y_train)\n",
    "    preds_knn = model_knn.predict(Xtt_test)\n",
    "    accs[i] = accuracy_score(y_test, preds_knn)\n",
    "    mccs[i] = matthews_corrcoef(y_test, preds_knn)\n",
    "\n",
    "# Plot results\n",
    "plt.plot(ks, accs, color = \"sienna\", label = \"Accuracy Score\")\n",
    "plt.plot(ks, mccs, color = \"royalblue\", label = \"Matthews Correlation Coefficient\")\n",
    "plt.grid()\n",
    "plt.legend(loc = \"upper right\")\n",
    "plt.ylim(0.78,0.93)\n",
    "plt.show()"
   ]
  },
  {
   "cell_type": "markdown",
   "id": "e051dc46-37c0-4716-ad18-b4c6f8e2f478",
   "metadata": {},
   "source": [
    "#### 5.5 Select best model and fit the model with all the Training Set Data"
   ]
  },
  {
   "cell_type": "markdown",
   "id": "1e10d7d8-9d06-4fe3-ac30-09c0774aaaf5",
   "metadata": {},
   "source": [
    "List the classification models according to MCC"
   ]
  },
  {
   "cell_type": "code",
   "execution_count": 28,
   "id": "8f8edb7d-7934-4107-871e-e05dfa19216e",
   "metadata": {},
   "outputs": [
    {
     "data": {
      "text/html": [
       "<div>\n",
       "<style scoped>\n",
       "    .dataframe tbody tr th:only-of-type {\n",
       "        vertical-align: middle;\n",
       "    }\n",
       "\n",
       "    .dataframe tbody tr th {\n",
       "        vertical-align: top;\n",
       "    }\n",
       "\n",
       "    .dataframe thead th {\n",
       "        text-align: right;\n",
       "    }\n",
       "</style>\n",
       "<table border=\"1\" class=\"dataframe\">\n",
       "  <thead>\n",
       "    <tr style=\"text-align: right;\">\n",
       "      <th></th>\n",
       "      <th>Model Name</th>\n",
       "      <th>Accuracy</th>\n",
       "      <th>MCC</th>\n",
       "    </tr>\n",
       "  </thead>\n",
       "  <tbody>\n",
       "    <tr>\n",
       "      <th>0</th>\n",
       "      <td>KNN (k=1)</td>\n",
       "      <td>0.919006</td>\n",
       "      <td>0.898893</td>\n",
       "    </tr>\n",
       "    <tr>\n",
       "      <th>2</th>\n",
       "      <td>KNN (k=3)</td>\n",
       "      <td>0.909855</td>\n",
       "      <td>0.887661</td>\n",
       "    </tr>\n",
       "    <tr>\n",
       "      <th>4</th>\n",
       "      <td>KNN (k=5)</td>\n",
       "      <td>0.903025</td>\n",
       "      <td>0.879313</td>\n",
       "    </tr>\n",
       "    <tr>\n",
       "      <th>1</th>\n",
       "      <td>KNN (k=2)</td>\n",
       "      <td>0.899133</td>\n",
       "      <td>0.875424</td>\n",
       "    </tr>\n",
       "    <tr>\n",
       "      <th>3</th>\n",
       "      <td>Decision Tree (msl=1, max_depth=25)</td>\n",
       "      <td>0.889230</td>\n",
       "      <td>0.861494</td>\n",
       "    </tr>\n",
       "    <tr>\n",
       "      <th>2</th>\n",
       "      <td>Decision Tree (msl=1, max_depth=20)</td>\n",
       "      <td>0.887591</td>\n",
       "      <td>0.859433</td>\n",
       "    </tr>\n",
       "    <tr>\n",
       "      <th>1</th>\n",
       "      <td>Decision Tree (msl=1, max_depth=15)</td>\n",
       "      <td>0.879123</td>\n",
       "      <td>0.848846</td>\n",
       "    </tr>\n",
       "    <tr>\n",
       "      <th>7</th>\n",
       "      <td>Decision Tree (msl=5, max_depth=25)</td>\n",
       "      <td>0.870587</td>\n",
       "      <td>0.838185</td>\n",
       "    </tr>\n",
       "    <tr>\n",
       "      <th>0</th>\n",
       "      <td>Quadratic Discriminant Analysis</td>\n",
       "      <td>0.859865</td>\n",
       "      <td>0.825506</td>\n",
       "    </tr>\n",
       "    <tr>\n",
       "      <th>4</th>\n",
       "      <td>Logistic Regression (L2) (C=1)</td>\n",
       "      <td>0.730588</td>\n",
       "      <td>0.663235</td>\n",
       "    </tr>\n",
       "  </tbody>\n",
       "</table>\n",
       "</div>"
      ],
      "text/plain": [
       "                            Model Name  Accuracy       MCC\n",
       "0                            KNN (k=1)  0.919006  0.898893\n",
       "2                            KNN (k=3)  0.909855  0.887661\n",
       "4                            KNN (k=5)  0.903025  0.879313\n",
       "1                            KNN (k=2)  0.899133  0.875424\n",
       "3  Decision Tree (msl=1, max_depth=25)  0.889230  0.861494\n",
       "2  Decision Tree (msl=1, max_depth=20)  0.887591  0.859433\n",
       "1  Decision Tree (msl=1, max_depth=15)  0.879123  0.848846\n",
       "7  Decision Tree (msl=5, max_depth=25)  0.870587  0.838185\n",
       "0     Quadratic Discriminant Analysis   0.859865  0.825506\n",
       "4       Logistic Regression (L2) (C=1)  0.730588  0.663235"
      ]
     },
     "execution_count": 28,
     "metadata": {},
     "output_type": "execute_result"
    }
   ],
   "source": [
    "Best_Models = pd.concat([Best_lr[:4], Best_lda[:3], Best_qda[:1], Best_dt[:4], Best_nb[:1], Best_knn[:4]])\n",
    "Best_Models = Best_Models.sort_values(by=\"MCC\", ascending=False)\n",
    "Best_Models[:10]"
   ]
  },
  {
   "cell_type": "markdown",
   "id": "ab9d1f35-4148-43c4-a048-d55c49ba37f6",
   "metadata": {},
   "source": [
    "Scale the TRAIN data"
   ]
  },
  {
   "cell_type": "code",
   "execution_count": 29,
   "id": "7d0fcdda-545d-4293-906a-c9e2dbf92e83",
   "metadata": {},
   "outputs": [],
   "source": [
    "# Scale the data using StandardScaler\n",
    "columns = list(X_TRAIN.columns.values)\n",
    "scaler.fit(X_TRAIN)\n",
    "Xt_TRAIN = pd.DataFrame(scaler.transform(X_TRAIN), columns = columns)"
   ]
  },
  {
   "cell_type": "markdown",
   "id": "ac0b5fc5-68ae-49fb-b557-f72fea000f4a",
   "metadata": {},
   "source": [
    "Dropping columns of the TRAIN data with more than 50% of missing values"
   ]
  },
  {
   "cell_type": "code",
   "execution_count": 31,
   "id": "bcb8bda6-8023-4cb3-9c71-e0f3cc86afa2",
   "metadata": {},
   "outputs": [],
   "source": [
    "# Drop variables with % missing values > threshold\n",
    "Xt_TRAIN = Xt_TRAIN.drop(columns = elim_var_names, axis = 1)"
   ]
  },
  {
   "cell_type": "markdown",
   "id": "9658b89c-5e0b-4ac6-b2d7-d1dba95ec17f",
   "metadata": {},
   "source": [
    "Perform a multivariate imputation with KNN on the TRAIN data"
   ]
  },
  {
   "cell_type": "code",
   "execution_count": 33,
   "id": "ce857241-6747-48cd-9504-e2431c1263d9",
   "metadata": {},
   "outputs": [],
   "source": [
    "# Perform a multivariate imputation with KNN\n",
    "imputer.fit(Xt_TRAIN)\n",
    "Xtt_TRAIN = imputer.transform(Xt_TRAIN)"
   ]
  },
  {
   "cell_type": "markdown",
   "id": "ff5aa315-d102-458a-80db-ba6a7b0a7202",
   "metadata": {},
   "source": [
    "Fit the best model with all the Training Set Data"
   ]
  },
  {
   "cell_type": "code",
   "execution_count": 34,
   "id": "8ac89248-f141-40e0-8a74-e4ae9e3a0a44",
   "metadata": {},
   "outputs": [],
   "source": [
    "# Select Best Model KNN (k=1)\n",
    "k = 1\n",
    "# Fit best model with all the Training Set Data\n",
    "Best_Model = KNeighborsClassifier(n_neighbors = k)\n",
    "Best_Model = Best_Model.fit(Xtt_TRAIN, y_TRAIN)"
   ]
  },
  {
   "cell_type": "markdown",
   "id": "5c6ad029-9878-4d6a-bcee-d0799f80cf80",
   "metadata": {},
   "source": [
    "### Step 6. Use the IVS to assess the chosen model quality"
   ]
  },
  {
   "cell_type": "markdown",
   "id": "f2ce35a9-bb52-4ad6-b84a-4c1afd0e4203",
   "metadata": {},
   "source": [
    "Scale the data"
   ]
  },
  {
   "cell_type": "code",
   "execution_count": 35,
   "id": "d23e47ad-5e18-4437-9613-4626a4807f0f",
   "metadata": {},
   "outputs": [],
   "source": [
    "# Scale the data using StandardScaler\n",
    "columns = list(X_IVS.columns.values)\n",
    "scaler.fit(X_IVS)\n",
    "Xt_IVS = pd.DataFrame(scaler.transform(X_IVS), columns = columns)"
   ]
  },
  {
   "cell_type": "markdown",
   "id": "26e9b449-98b2-46ed-b009-738e0c8503fd",
   "metadata": {},
   "source": [
    "Dropping columns with more than 50% of missing values"
   ]
  },
  {
   "cell_type": "code",
   "execution_count": 36,
   "id": "d9b2be79-123e-46cb-85c6-1efe570016c4",
   "metadata": {},
   "outputs": [],
   "source": [
    "# Drop variables with % missing values > threshold\n",
    "Xt_IVS = Xt_IVS.drop(columns=elim_var_names, axis = 1)"
   ]
  },
  {
   "cell_type": "markdown",
   "id": "65818fe9-bd30-4086-8444-6e1af897cbe4",
   "metadata": {},
   "source": [
    "Perform a multivariate imputation with KNN"
   ]
  },
  {
   "cell_type": "code",
   "execution_count": 37,
   "id": "ef12e534-e446-44b4-97eb-3b55d3c394a9",
   "metadata": {},
   "outputs": [],
   "source": [
    "# Perform a multivariate imputation with KNN\n",
    "imputer.fit(Xt_IVS)\n",
    "Xtt_IVS = imputer.transform(Xt_IVS)"
   ]
  },
  {
   "cell_type": "markdown",
   "id": "6903cc31-3869-40f0-b0a7-2a0b410f4407",
   "metadata": {},
   "source": [
    "Assess the chosen model quality on the IVS data set "
   ]
  },
  {
   "cell_type": "code",
   "execution_count": 39,
   "id": "e7becba8-ced3-4c45-8ff1-3aab297e9dfc",
   "metadata": {},
   "outputs": [
    {
     "name": "stdout",
     "output_type": "stream",
     "text": [
      "These are the statistics for the selected Classification Model:\n",
      "The Accuracy score is:  0.9283\n",
      "The Matthews correlation coefficient is:  0.9105\n",
      "This is the Confusion Matrix for the Independent Validation Set\n"
     ]
    },
    {
     "data": {
      "text/html": [
       "<div>\n",
       "<style scoped>\n",
       "    .dataframe tbody tr th:only-of-type {\n",
       "        vertical-align: middle;\n",
       "    }\n",
       "\n",
       "    .dataframe tbody tr th {\n",
       "        vertical-align: top;\n",
       "    }\n",
       "\n",
       "    .dataframe thead th {\n",
       "        text-align: right;\n",
       "    }\n",
       "</style>\n",
       "<table border=\"1\" class=\"dataframe\">\n",
       "  <thead>\n",
       "    <tr style=\"text-align: right;\">\n",
       "      <th></th>\n",
       "      <th>0</th>\n",
       "      <th>1</th>\n",
       "      <th>2</th>\n",
       "      <th>3</th>\n",
       "      <th>4</th>\n",
       "    </tr>\n",
       "  </thead>\n",
       "  <tbody>\n",
       "    <tr>\n",
       "      <th>0</th>\n",
       "      <td>4026</td>\n",
       "      <td>10</td>\n",
       "      <td>24</td>\n",
       "      <td>1</td>\n",
       "      <td>2</td>\n",
       "    </tr>\n",
       "    <tr>\n",
       "      <th>1</th>\n",
       "      <td>16</td>\n",
       "      <td>3350</td>\n",
       "      <td>56</td>\n",
       "      <td>193</td>\n",
       "      <td>138</td>\n",
       "    </tr>\n",
       "    <tr>\n",
       "      <th>2</th>\n",
       "      <td>66</td>\n",
       "      <td>26</td>\n",
       "      <td>3844</td>\n",
       "      <td>219</td>\n",
       "      <td>30</td>\n",
       "    </tr>\n",
       "    <tr>\n",
       "      <th>3</th>\n",
       "      <td>20</td>\n",
       "      <td>90</td>\n",
       "      <td>173</td>\n",
       "      <td>3365</td>\n",
       "      <td>9</td>\n",
       "    </tr>\n",
       "    <tr>\n",
       "      <th>4</th>\n",
       "      <td>38</td>\n",
       "      <td>186</td>\n",
       "      <td>56</td>\n",
       "      <td>46</td>\n",
       "      <td>3540</td>\n",
       "    </tr>\n",
       "  </tbody>\n",
       "</table>\n",
       "</div>"
      ],
      "text/plain": [
       "      0     1     2     3     4\n",
       "0  4026    10    24     1     2\n",
       "1    16  3350    56   193   138\n",
       "2    66    26  3844   219    30\n",
       "3    20    90   173  3365     9\n",
       "4    38   186    56    46  3540"
      ]
     },
     "execution_count": 39,
     "metadata": {},
     "output_type": "execute_result"
    }
   ],
   "source": [
    "ivs_preds = Best_Model.predict(Xtt_IVS)\n",
    "print(\"These are the statistics for the selected Classification Model:\")\n",
    "print(\"The Accuracy score is: %7.4f\" % accuracy_score(y_IVS, ivs_preds))\n",
    "print(\"The Matthews correlation coefficient is: %7.4f\" % matthews_corrcoef(y_IVS, ivs_preds))\n",
    "print(\"This is the Confusion Matrix for the Independent Validation Set\")\n",
    "pd.DataFrame(confusion_matrix(y_IVS, ivs_preds))"
   ]
  }
 ],
 "metadata": {
  "kernelspec": {
   "display_name": "Python 3 (ipykernel)",
   "language": "python",
   "name": "python3"
  },
  "language_info": {
   "codemirror_mode": {
    "name": "ipython",
    "version": 3
   },
   "file_extension": ".py",
   "mimetype": "text/x-python",
   "name": "python",
   "nbconvert_exporter": "python",
   "pygments_lexer": "ipython3",
   "version": "3.11.4"
  }
 },
 "nbformat": 4,
 "nbformat_minor": 5
}
