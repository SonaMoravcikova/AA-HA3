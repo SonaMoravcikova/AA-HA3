{
 "cells": [
  {
   "cell_type": "markdown",
   "id": "f1f97889-6efb-45fd-bde3-de9d62bb6ab8",
   "metadata": {},
   "source": [
    "## Machine Learning Second Home Assignment\n",
    "Group number: 14"
   ]
  },
  {
   "cell_type": "markdown",
   "id": "3f644f8f-866b-431a-945b-db10144f305d",
   "metadata": {},
   "source": [
    "#### Import libraries and dataset"
   ]
  },
  {
   "cell_type": "code",
   "execution_count": 27,
   "id": "c7e759ca-f911-4614-9d32-942547bed1be",
   "metadata": {},
   "outputs": [],
   "source": [
    "# Import libraries\n",
    "import numpy as np\n",
    "import pandas as pd\n",
    "import seaborn as sns\n",
    "import matplotlib.pyplot as plt\n",
    "from sklearn.model_selection import train_test_split\n",
    "from sklearn.impute import SimpleImputer, KNNImputer\n",
    "from sklearn.preprocessing import StandardScaler, PowerTransformer, MinMaxScaler\n",
    "from sklearn.metrics import accuracy_score, precision_score, recall_score, f1_score, matthews_corrcoef, confusion_matrix, precision_score\n",
    "from sklearn.neighbors import KNeighborsClassifier\n",
    "from sklearn.tree import DecisionTreeClassifier, plot_tree\n",
    "from sklearn.linear_model import LogisticRegression\n",
    "from sklearn.discriminant_analysis import LinearDiscriminantAnalysis, QuadraticDiscriminantAnalysis\n",
    "from sklearn.naive_bayes import GaussianNB"
   ]
  },
  {
   "cell_type": "code",
   "execution_count": 28,
   "id": "81672bd5-371d-4c00-a761-9a0a3915bd3c",
   "metadata": {},
   "outputs": [],
   "source": [
    "# Import dataset\n",
    "df = pd.read_csv(\"Postures.csv\", na_values = \"?\")"
   ]
  },
  {
   "cell_type": "markdown",
   "id": "7c709ef5",
   "metadata": {},
   "source": [
    "#### Functions"
   ]
  },
  {
   "cell_type": "code",
   "execution_count": 42,
   "id": "12561df0",
   "metadata": {},
   "outputs": [],
   "source": [
    "def calculate_mcc(y_test, preds, imputer, model, results):\n",
    "    mcc = matthews_corrcoef(y_test, preds)\n",
    "    results.append({\n",
    "        'Scaler': str(scaler),\n",
    "        'Imputer': str(imputer),\n",
    "        'Model': str(model),\n",
    "        'MCC': mcc\n",
    "    })"
   ]
  },
  {
   "cell_type": "code",
   "execution_count": 30,
   "id": "a90d3290",
   "metadata": {},
   "outputs": [],
   "source": [
    "def runner(scaler, imputer, modeler, X_train, y_train, X_test):\n",
    "    scaler.fit(X_train)\n",
    "    Xt_train = scaler.transform(X_train)\n",
    "    Xt_test = scaler.transform(X_test)\n",
    "    imputer.fit(Xt_train)\n",
    "    Xt_train = imputer.transform(Xt_train)\n",
    "    Xt_test = imputer.transform(Xt_test)\n",
    "    modeler.fit(Xt_train, y_train)\n",
    "    return modeler.predict(Xt_test)"
   ]
  },
  {
   "cell_type": "code",
   "execution_count": 31,
   "id": "7c1e120e",
   "metadata": {},
   "outputs": [],
   "source": [
    "def runner_imp(imputer, modeler, X_train, y_train, X_test):\n",
    "    imputer.fit(X_train)\n",
    "    Xt_train = imputer.transform(X_train)\n",
    "    Xt_test = imputer.transform(X_test)\n",
    "    modeler.fit(Xt_train, y_train)\n",
    "    return modeler.predict(Xt_test)"
   ]
  },
  {
   "cell_type": "markdown",
   "id": "df04ed19-3894-49ed-aff5-c07e562d914d",
   "metadata": {},
   "source": [
    "### Step 0. Pre-processing the data"
   ]
  },
  {
   "cell_type": "markdown",
   "id": "689aec88-8dcb-4a16-a10d-5fdec51ae327",
   "metadata": {},
   "source": [
    "#### 0.1 Examining dataset"
   ]
  },
  {
   "cell_type": "code",
   "execution_count": 32,
   "id": "9de439ad-e407-4d7d-9397-12f1987c9989",
   "metadata": {},
   "outputs": [
    {
     "data": {
      "text/plain": [
       "(78096, 38)"
      ]
     },
     "execution_count": 32,
     "metadata": {},
     "output_type": "execute_result"
    }
   ],
   "source": [
    "# Dataset shape\n",
    "df.shape"
   ]
  },
  {
   "cell_type": "markdown",
   "id": "23f85c35-ea29-4064-8141-1b199deb805a",
   "metadata": {},
   "source": [
    "#### 0.2 Eliminate first row, transform \"User\" variable into cathegorical and check if the dependent variable \"Class\" contains no missing values"
   ]
  },
  {
   "cell_type": "code",
   "execution_count": 34,
   "id": "ba359993-2796-4265-aaf8-5434dc547b05",
   "metadata": {},
   "outputs": [],
   "source": [
    "# Eliminate the first row of the data set as there are only Zeros\n",
    "df = df.tail(-1)"
   ]
  },
  {
   "cell_type": "code",
   "execution_count": 35,
   "id": "723db02b-69b4-4287-b5b4-5a931ec435d5",
   "metadata": {},
   "outputs": [],
   "source": [
    "#  Transform \"User\" variable into cathegorical\n",
    "df['User'] = pd.Categorical(df.User)"
   ]
  },
  {
   "cell_type": "code",
   "execution_count": 36,
   "id": "a84ef672-9470-447f-b01a-aa067ee861a2",
   "metadata": {},
   "outputs": [
    {
     "data": {
      "text/html": [
       "<div>\n",
       "<style scoped>\n",
       "    .dataframe tbody tr th:only-of-type {\n",
       "        vertical-align: middle;\n",
       "    }\n",
       "\n",
       "    .dataframe tbody tr th {\n",
       "        vertical-align: top;\n",
       "    }\n",
       "\n",
       "    .dataframe thead th {\n",
       "        text-align: right;\n",
       "    }\n",
       "</style>\n",
       "<table border=\"1\" class=\"dataframe\">\n",
       "  <thead>\n",
       "    <tr style=\"text-align: right;\">\n",
       "      <th></th>\n",
       "      <th>Class</th>\n",
       "      <th>User</th>\n",
       "      <th>X0</th>\n",
       "      <th>Y0</th>\n",
       "      <th>Z0</th>\n",
       "      <th>X1</th>\n",
       "      <th>Y1</th>\n",
       "      <th>Z1</th>\n",
       "      <th>X2</th>\n",
       "      <th>Y2</th>\n",
       "      <th>...</th>\n",
       "      <th>Z8</th>\n",
       "      <th>X9</th>\n",
       "      <th>Y9</th>\n",
       "      <th>Z9</th>\n",
       "      <th>X10</th>\n",
       "      <th>Y10</th>\n",
       "      <th>Z10</th>\n",
       "      <th>X11</th>\n",
       "      <th>Y11</th>\n",
       "      <th>Z11</th>\n",
       "    </tr>\n",
       "  </thead>\n",
       "  <tbody>\n",
       "  </tbody>\n",
       "</table>\n",
       "<p>0 rows × 38 columns</p>\n",
       "</div>"
      ],
      "text/plain": [
       "Empty DataFrame\n",
       "Columns: [Class, User, X0, Y0, Z0, X1, Y1, Z1, X2, Y2, Z2, X3, Y3, Z3, X4, Y4, Z4, X5, Y5, Z5, X6, Y6, Z6, X7, Y7, Z7, X8, Y8, Z8, X9, Y9, Z9, X10, Y10, Z10, X11, Y11, Z11]\n",
       "Index: []\n",
       "\n",
       "[0 rows x 38 columns]"
      ]
     },
     "execution_count": 36,
     "metadata": {},
     "output_type": "execute_result"
    }
   ],
   "source": [
    "# Check whether the dependent variable \"Class\" contains missing values\n",
    "df[df['Class'].isna()]"
   ]
  },
  {
   "cell_type": "markdown",
   "id": "42f574e8-bc34-4737-97e1-ef476dab9106",
   "metadata": {},
   "source": [
    "### Step 1. Split the data set into a training and testing set"
   ]
  },
  {
   "cell_type": "code",
   "execution_count": 37,
   "id": "ff0ee26e-0e62-47b4-8ba2-db4de099fcba",
   "metadata": {},
   "outputs": [],
   "source": [
    "# Splitting the dataset into train and test sets\n",
    "X = df.drop(columns=['Class']) \n",
    "y = df['Class']\n",
    "X_train, X_test, y_train, y_test = train_test_split(X, y, test_size = 0.25, random_state = 4)"
   ]
  },
  {
   "cell_type": "code",
   "execution_count": 38,
   "id": "d501c68e-a1b7-4f0c-bbbf-0e92997bebba",
   "metadata": {},
   "outputs": [
    {
     "name": "stdout",
     "output_type": "stream",
     "text": [
      "Nr. of instances in class  1 ---> 12202\n",
      "Nr. of instances in class  2 ---> 11225\n",
      "Nr. of instances in class  3 ---> 12159\n",
      "Nr. of instances in class  4 ---> 11118\n",
      "Nr. of instances in class  5 ---> 11867\n"
     ]
    }
   ],
   "source": [
    "# Print the number of instances in each class\n",
    "vals, counts= np.unique(y_train, return_counts=True)\n",
    "for v, c in zip(vals, counts):\n",
    "    print(\"Nr. of instances in class \", v, \"--->\", c)"
   ]
  },
  {
   "cell_type": "markdown",
   "id": "26568d33-ab8a-4735-bbeb-f6311987cffc",
   "metadata": {},
   "source": [
    "### Step 2. Scale the data"
   ]
  },
  {
   "cell_type": "markdown",
   "id": "078d4f13",
   "metadata": {},
   "source": [
    "#### Finding the best scaler"
   ]
  },
  {
   "cell_type": "code",
   "execution_count": 120,
   "id": "f0da18b4",
   "metadata": {},
   "outputs": [
    {
     "data": {
      "text/html": [
       "<div>\n",
       "<style scoped>\n",
       "    .dataframe tbody tr th:only-of-type {\n",
       "        vertical-align: middle;\n",
       "    }\n",
       "\n",
       "    .dataframe tbody tr th {\n",
       "        vertical-align: top;\n",
       "    }\n",
       "\n",
       "    .dataframe thead th {\n",
       "        text-align: right;\n",
       "    }\n",
       "</style>\n",
       "<table border=\"1\" class=\"dataframe\">\n",
       "  <thead>\n",
       "    <tr style=\"text-align: right;\">\n",
       "      <th></th>\n",
       "      <th>Scaler</th>\n",
       "      <th>Imputer</th>\n",
       "      <th>Model</th>\n",
       "      <th>MCC</th>\n",
       "    </tr>\n",
       "  </thead>\n",
       "  <tbody>\n",
       "    <tr>\n",
       "      <th>10</th>\n",
       "      <td>MinMaxScaler()</td>\n",
       "      <td>SimpleImputer()</td>\n",
       "      <td>DecisionTreeClassifier()</td>\n",
       "      <td>0.950608</td>\n",
       "    </tr>\n",
       "    <tr>\n",
       "      <th>6</th>\n",
       "      <td>PowerTransformer()</td>\n",
       "      <td>SimpleImputer()</td>\n",
       "      <td>DecisionTreeClassifier()</td>\n",
       "      <td>0.949969</td>\n",
       "    </tr>\n",
       "    <tr>\n",
       "      <th>2</th>\n",
       "      <td>StandardScaler()</td>\n",
       "      <td>SimpleImputer()</td>\n",
       "      <td>DecisionTreeClassifier()</td>\n",
       "      <td>0.948813</td>\n",
       "    </tr>\n",
       "    <tr>\n",
       "      <th>8</th>\n",
       "      <td>MinMaxScaler()</td>\n",
       "      <td>SimpleImputer()</td>\n",
       "      <td>KNeighborsClassifier()</td>\n",
       "      <td>0.933774</td>\n",
       "    </tr>\n",
       "    <tr>\n",
       "      <th>0</th>\n",
       "      <td>StandardScaler()</td>\n",
       "      <td>SimpleImputer()</td>\n",
       "      <td>KNeighborsClassifier()</td>\n",
       "      <td>0.918470</td>\n",
       "    </tr>\n",
       "  </tbody>\n",
       "</table>\n",
       "</div>"
      ],
      "text/plain": [
       "                Scaler          Imputer                     Model       MCC\n",
       "10      MinMaxScaler()  SimpleImputer()  DecisionTreeClassifier()  0.950608\n",
       "6   PowerTransformer()  SimpleImputer()  DecisionTreeClassifier()  0.949969\n",
       "2     StandardScaler()  SimpleImputer()  DecisionTreeClassifier()  0.948813\n",
       "8       MinMaxScaler()  SimpleImputer()    KNeighborsClassifier()  0.933774\n",
       "0     StandardScaler()  SimpleImputer()    KNeighborsClassifier()  0.918470"
      ]
     },
     "execution_count": 120,
     "metadata": {},
     "output_type": "execute_result"
    }
   ],
   "source": [
    "scalers = [StandardScaler(), PowerTransformer(), MinMaxScaler()]\n",
    "imputer = SimpleImputer()\n",
    "models = [KNeighborsClassifier(), LogisticRegression(max_iter=100000), DecisionTreeClassifier(), GaussianNB()]\n",
    "results = []\n",
    "\n",
    "for scaler in scalers:\n",
    "    for model in models:\n",
    "        preds = runner(scaler, imputer, model, X_train, y_train, X_test)\n",
    "        calculate_mcc(y_test, preds, imputer, model, results)\n",
    "        \n",
    "mcc_table_scalers = pd.DataFrame(results)\n",
    "mcc_table_scalers = mcc_table_scalers.sort_values(by='MCC', ascending=False)\n",
    "mcc_table_scalers[:5]"
   ]
  },
  {
   "cell_type": "markdown",
   "id": "7999834a",
   "metadata": {},
   "source": [
    "#### Apply the selected scaler to data"
   ]
  },
  {
   "cell_type": "code",
   "execution_count": 45,
   "id": "98423229-19e0-406f-9a83-c3816215f17e",
   "metadata": {},
   "outputs": [],
   "source": [
    "columns = list(X_train.columns.values)\n",
    "scaler = MinMaxScaler()\n",
    "scaler.fit(X_train)\n",
    "X_train_scaled = pd.DataFrame(scaler.transform(X_train), columns = columns)\n",
    "X_test_scaled  = pd.DataFrame(scaler.transform(X_test), columns = columns)"
   ]
  },
  {
   "cell_type": "markdown",
   "id": "db7b0c14-e2e6-4826-b616-364405108290",
   "metadata": {},
   "source": [
    "### Step 3. Dealing with missing values"
   ]
  },
  {
   "cell_type": "markdown",
   "id": "3f215d08",
   "metadata": {},
   "source": [
    "#### 3.1 Exploring Impact of Column Elimination on Model Performance"
   ]
  },
  {
   "cell_type": "code",
   "execution_count": 121,
   "id": "43166abd",
   "metadata": {},
   "outputs": [
    {
     "data": {
      "text/html": [
       "<div>\n",
       "<style scoped>\n",
       "    .dataframe tbody tr th:only-of-type {\n",
       "        vertical-align: middle;\n",
       "    }\n",
       "\n",
       "    .dataframe tbody tr th {\n",
       "        vertical-align: top;\n",
       "    }\n",
       "\n",
       "    .dataframe thead th {\n",
       "        text-align: right;\n",
       "    }\n",
       "</style>\n",
       "<table border=\"1\" class=\"dataframe\">\n",
       "  <thead>\n",
       "    <tr style=\"text-align: right;\">\n",
       "      <th></th>\n",
       "      <th>Threshold</th>\n",
       "      <th>Model</th>\n",
       "      <th>MCC</th>\n",
       "    </tr>\n",
       "  </thead>\n",
       "  <tbody>\n",
       "    <tr>\n",
       "      <th>6</th>\n",
       "      <td>0.6</td>\n",
       "      <td>DecisionTreeClassifier()</td>\n",
       "      <td>0.950548</td>\n",
       "    </tr>\n",
       "    <tr>\n",
       "      <th>10</th>\n",
       "      <td>0.7</td>\n",
       "      <td>DecisionTreeClassifier()</td>\n",
       "      <td>0.947727</td>\n",
       "    </tr>\n",
       "    <tr>\n",
       "      <th>8</th>\n",
       "      <td>0.7</td>\n",
       "      <td>KNeighborsClassifier()</td>\n",
       "      <td>0.929408</td>\n",
       "    </tr>\n",
       "    <tr>\n",
       "      <th>4</th>\n",
       "      <td>0.6</td>\n",
       "      <td>KNeighborsClassifier()</td>\n",
       "      <td>0.920298</td>\n",
       "    </tr>\n",
       "    <tr>\n",
       "      <th>2</th>\n",
       "      <td>0.5</td>\n",
       "      <td>DecisionTreeClassifier()</td>\n",
       "      <td>0.911857</td>\n",
       "    </tr>\n",
       "  </tbody>\n",
       "</table>\n",
       "</div>"
      ],
      "text/plain": [
       "    Threshold                     Model       MCC\n",
       "6         0.6  DecisionTreeClassifier()  0.950548\n",
       "10        0.7  DecisionTreeClassifier()  0.947727\n",
       "8         0.7    KNeighborsClassifier()  0.929408\n",
       "4         0.6    KNeighborsClassifier()  0.920298\n",
       "2         0.5  DecisionTreeClassifier()  0.911857"
      ]
     },
     "execution_count": 121,
     "metadata": {},
     "output_type": "execute_result"
    }
   ],
   "source": [
    "models = [KNeighborsClassifier(), LogisticRegression(max_iter=100000), DecisionTreeClassifier(), GaussianNB()]\n",
    "imputer = SimpleImputer()\n",
    "thresholds = [0.5, 0.6, 0.7]\n",
    "results = []\n",
    "\n",
    "for threshold in thresholds:\n",
    "    missing_train = X_train_scaled.isna().mean()\n",
    "    missing_test = X_test_scaled.isna().mean()\n",
    "\n",
    "    elim_var_train = missing_train[missing_train > threshold]\n",
    "    elim_var_names = list(elim_var_train.index.values)\n",
    "\n",
    "    X_train_reduced = X_train_scaled.drop(columns=elim_var_names)\n",
    "    X_test_reduced = X_test_scaled.drop(columns=elim_var_names)\n",
    "    \n",
    "\n",
    "    for model in models:\n",
    "        preds_reduced = runner_imp(imputer, model, X_train_reduced, y_train, X_test_reduced)\n",
    "        mcc = matthews_corrcoef(y_test, preds_reduced)\n",
    "        results.append({\n",
    "            'Threshold': threshold,\n",
    "            'Model': str(model),\n",
    "            'MCC': mcc\n",
    "        })\n",
    "        \n",
    "mcc_table = pd.DataFrame(results)\n",
    "mcc_table = mcc_table.sort_values(by='MCC', ascending=False)\n",
    "mcc_table[:5]"
   ]
  },
  {
   "cell_type": "markdown",
   "id": "14bfd02d-7029-4723-b601-1e7190aebc26",
   "metadata": {},
   "source": [
    "#### Dropping columns with more than 70% of missing values"
   ]
  },
  {
   "cell_type": "code",
   "execution_count": 108,
   "id": "9c5340e3-56f7-4a19-8aa6-37fa8ca99ef5",
   "metadata": {},
   "outputs": [],
   "source": [
    "threshold = 0.7 #Selected threshold\n",
    "missing_percentage = X_train_scaled.isna().mean()\n",
    "columns_to_eliminate = missing_percentage[missing_percentage > threshold].index\n",
    "elim_var_names = list(columns_to_eliminate.values)\n",
    "X_train_reduced = X_train_scaled.drop(columns=columns_to_eliminate, axis = 1)\n",
    "X_test_reduced = X_test_scaled.drop(columns=columns_to_eliminate, axis = 1)"
   ]
  },
  {
   "cell_type": "markdown",
   "id": "74007625-e119-4868-af9f-f8620e01e897",
   "metadata": {},
   "source": [
    "#### 3.2 Imputation of missing values"
   ]
  },
  {
   "cell_type": "markdown",
   "id": "8dd29b8f",
   "metadata": {},
   "source": [
    "#### Finding the best imputer"
   ]
  },
  {
   "cell_type": "markdown",
   "id": "714baf41",
   "metadata": {},
   "source": [
    "To identify the optimal imputer, we perform the selection process on a smaller sample. This approach is chosen due to the computational demands associated with evaluating imputers on the entire dataset. The sample serves as a representative subset for efficient imputer assessment."
   ]
  },
  {
   "cell_type": "code",
   "execution_count": 64,
   "id": "6732ff52",
   "metadata": {},
   "outputs": [],
   "source": [
    "stratified_subset, _ = train_test_split(df, test_size=0.9, stratify=df['Class'], random_state=42)\n",
    "\n",
    "X_train_small, X_test_small, y_train_small, y_test_small = train_test_split(stratified_subset.drop('Class', axis=1), stratified_subset['Class'], test_size=0.25, random_state=42)"
   ]
  },
  {
   "cell_type": "code",
   "execution_count": 65,
   "id": "cc554f12",
   "metadata": {},
   "outputs": [],
   "source": [
    "columns = list(X_train_small.columns.values)\n",
    "selected_scaler = MinMaxScaler()\n",
    "selected_scaler.fit(X_train_small)\n",
    "X_train_scaled_small = pd.DataFrame(selected_scaler.transform(X_train_small), columns = columns)\n",
    "X_test_scaled_small  = pd.DataFrame(selected_scaler.transform(X_test_small), columns = columns)"
   ]
  },
  {
   "cell_type": "code",
   "execution_count": 66,
   "id": "8e630175",
   "metadata": {},
   "outputs": [],
   "source": [
    "threshold = 0.7 # Your selected threshold\n",
    "missing_percentage = X_train_scaled_small.isna().mean()\n",
    "columns_to_eliminate = missing_percentage[missing_percentage > threshold].index\n",
    "X_train_reduced_small = X_train_scaled_small.drop(columns=columns_to_eliminate, axis = 1)\n",
    "X_test_reduced_small = X_test_scaled_small.drop(columns=columns_to_eliminate, axis = 1)"
   ]
  },
  {
   "cell_type": "code",
   "execution_count": 122,
   "id": "f2547c91",
   "metadata": {},
   "outputs": [
    {
     "data": {
      "text/html": [
       "<div>\n",
       "<style scoped>\n",
       "    .dataframe tbody tr th:only-of-type {\n",
       "        vertical-align: middle;\n",
       "    }\n",
       "\n",
       "    .dataframe tbody tr th {\n",
       "        vertical-align: top;\n",
       "    }\n",
       "\n",
       "    .dataframe thead th {\n",
       "        text-align: right;\n",
       "    }\n",
       "</style>\n",
       "<table border=\"1\" class=\"dataframe\">\n",
       "  <thead>\n",
       "    <tr style=\"text-align: right;\">\n",
       "      <th></th>\n",
       "      <th>Scaler</th>\n",
       "      <th>Imputer</th>\n",
       "      <th>Model</th>\n",
       "      <th>MCC</th>\n",
       "    </tr>\n",
       "  </thead>\n",
       "  <tbody>\n",
       "    <tr>\n",
       "      <th>2</th>\n",
       "      <td>MinMaxScaler()</td>\n",
       "      <td>SimpleImputer()</td>\n",
       "      <td>DecisionTreeClassifier()</td>\n",
       "      <td>0.824527</td>\n",
       "    </tr>\n",
       "    <tr>\n",
       "      <th>6</th>\n",
       "      <td>MinMaxScaler()</td>\n",
       "      <td>SimpleImputer(strategy='median')</td>\n",
       "      <td>DecisionTreeClassifier()</td>\n",
       "      <td>0.818260</td>\n",
       "    </tr>\n",
       "    <tr>\n",
       "      <th>0</th>\n",
       "      <td>MinMaxScaler()</td>\n",
       "      <td>SimpleImputer()</td>\n",
       "      <td>KNeighborsClassifier()</td>\n",
       "      <td>0.767269</td>\n",
       "    </tr>\n",
       "    <tr>\n",
       "      <th>16</th>\n",
       "      <td>MinMaxScaler()</td>\n",
       "      <td>KNNImputer(n_neighbors=20)</td>\n",
       "      <td>KNeighborsClassifier()</td>\n",
       "      <td>0.766346</td>\n",
       "    </tr>\n",
       "    <tr>\n",
       "      <th>18</th>\n",
       "      <td>MinMaxScaler()</td>\n",
       "      <td>KNNImputer(n_neighbors=20)</td>\n",
       "      <td>DecisionTreeClassifier()</td>\n",
       "      <td>0.763082</td>\n",
       "    </tr>\n",
       "  </tbody>\n",
       "</table>\n",
       "</div>"
      ],
      "text/plain": [
       "            Scaler                           Imputer  \\\n",
       "2   MinMaxScaler()                   SimpleImputer()   \n",
       "6   MinMaxScaler()  SimpleImputer(strategy='median')   \n",
       "0   MinMaxScaler()                   SimpleImputer()   \n",
       "16  MinMaxScaler()        KNNImputer(n_neighbors=20)   \n",
       "18  MinMaxScaler()        KNNImputer(n_neighbors=20)   \n",
       "\n",
       "                       Model       MCC  \n",
       "2   DecisionTreeClassifier()  0.824527  \n",
       "6   DecisionTreeClassifier()  0.818260  \n",
       "0     KNeighborsClassifier()  0.767269  \n",
       "16    KNeighborsClassifier()  0.766346  \n",
       "18  DecisionTreeClassifier()  0.763082  "
      ]
     },
     "execution_count": 122,
     "metadata": {},
     "output_type": "execute_result"
    }
   ],
   "source": [
    "models = [KNeighborsClassifier(), LogisticRegression(max_iter=100000), DecisionTreeClassifier(), GaussianNB()]\n",
    "imputers = [SimpleImputer(missing_values=np.nan, strategy='mean'),\n",
    "            SimpleImputer(missing_values=np.nan, strategy='median'), KNNImputer(n_neighbors = 1), KNNImputer(n_neighbors = 5), KNNImputer(n_neighbors = 20)]\n",
    "results = []\n",
    "\n",
    "# Nested loops\n",
    "for imputer in imputers:\n",
    "    for model in models:\n",
    "        preds_imp = runner_imp(imputer, model, X_train_reduced_small, y_train_small, X_test_reduced_small)  \n",
    "        calculate_mcc(y_test_small, preds_imp, imputer, model, results)\n",
    "        \n",
    "mcc_table_imp = pd.DataFrame(results)\n",
    "mcc_table_imp = mcc_table_imp.sort_values(by='MCC', ascending=False)\n",
    "mcc_table_imp[:5]"
   ]
  },
  {
   "cell_type": "markdown",
   "id": "76da6edd-9b52-4a82-a1bf-bd2307fdb655",
   "metadata": {},
   "source": [
    "#### Using the selected imputer on the entire dataset"
   ]
  },
  {
   "cell_type": "code",
   "execution_count": 91,
   "id": "0383ca74-2123-4354-8ee4-8be79c3f5fc2",
   "metadata": {},
   "outputs": [],
   "source": [
    "# Perform a multivariate imputation with KNN\n",
    "imputer = SimpleImputer()\n",
    "imputer.fit(X_train_reduced)\n",
    "X_train_processed = imputer.transform(X_train_reduced)\n",
    "X_test_processed  = imputer.transform(X_test_reduced)"
   ]
  },
  {
   "cell_type": "markdown",
   "id": "e4b3cb65-b48d-499c-af13-f2c13601f7b4",
   "metadata": {},
   "source": [
    "### Step 4. Fitting the models"
   ]
  },
  {
   "cell_type": "markdown",
   "id": "2f3cf3af-e540-4324-93b7-349ff9c33981",
   "metadata": {},
   "source": [
    "#### 4.1 Linear models"
   ]
  },
  {
   "cell_type": "markdown",
   "id": "f6e414e8-573b-458d-bcb6-7765d6390c6f",
   "metadata": {},
   "source": [
    "##### 4.1.1 Logistic Regression"
   ]
  },
  {
   "cell_type": "code",
   "execution_count": 92,
   "id": "7cef78a0-a563-4bca-a099-dd7d02d47707",
   "metadata": {},
   "outputs": [],
   "source": [
    "# Create an empty list to store the results\n",
    "res_lr = []\n",
    "\n",
    "# Define a list of hyperparameters to test\n",
    "c_range = [0.0001, 0.001, 0.01, 0.1, 1]\n",
    "\n",
    "# Loop through the hyperparameter combinations and calculate Accuracy and MCC for each model\n",
    "for C in c_range:\n",
    "    model_name_lr = f'Logistic Regression (L2) (C={C})'\n",
    "    if not any(result_lr['Model Name'] == model_name_lr for result_lr in res_lr):\n",
    "        model_lr = LogisticRegression(max_iter = 100000, C = C, random_state = 4)\n",
    "        model_lr = model_lr.fit(X_train_processed, y_train)\n",
    "        preds_lr = model_lr.predict(X_test_processed)\n",
    "        res_lr.append({'Model Name': model_name_lr, 'Accuracy': accuracy_score(y_test, preds_lr), 'MCC': matthews_corrcoef(y_test, preds_lr)})"
   ]
  },
  {
   "cell_type": "markdown",
   "id": "d075b468-e3cd-4884-b734-dd24b2569776",
   "metadata": {},
   "source": [
    "##### 4.1.2 Linear Discriminant Analysis"
   ]
  },
  {
   "cell_type": "code",
   "execution_count": 93,
   "id": "e8b4584e-8e5c-4dc7-b892-e0acc10c47ca",
   "metadata": {},
   "outputs": [],
   "source": [
    "# Create an empty list to store the results\n",
    "res_lda = []\n",
    "\n",
    "# Define a list of hyperparameters to test\n",
    "solver = [\"svd\", \"lsqr\", \"eigen\"]\n",
    "\n",
    "# Loop through the hyperparameter combinations and calculate Accuracy and MCC for each model\n",
    "for solver in solver:\n",
    "    model_name_lda = f'Linear Discriminant Analyss (solver={solver})'\n",
    "    if not any(result_lda['Model Name'] == model_name_lda for result_lda in res_lda):\n",
    "        model_lda = LinearDiscriminantAnalysis(solver = solver)\n",
    "        model_lda = model_lda.fit(X_train_processed, y_train)\n",
    "        preds_lda = model_lda.predict(X_test_processed)\n",
    "        res_lda.append({'Model Name': model_name_lda, 'Accuracy': accuracy_score(y_test, preds_lda), 'MCC': matthews_corrcoef(y_test, preds_lda)})"
   ]
  },
  {
   "cell_type": "markdown",
   "id": "73e31d10-d25a-426b-a7ef-6c81ca9334c2",
   "metadata": {},
   "source": [
    "##### 4.1.3 Quadratic Discriminant Analysis"
   ]
  },
  {
   "cell_type": "code",
   "execution_count": 94,
   "id": "331eab67-c0db-408f-88ff-676188924434",
   "metadata": {},
   "outputs": [
    {
     "name": "stderr",
     "output_type": "stream",
     "text": [
      "/Users/sonamoravcikova/anaconda3/lib/python3.11/site-packages/sklearn/discriminant_analysis.py:887: UserWarning: Variables are collinear\n",
      "  warnings.warn(\"Variables are collinear\")\n"
     ]
    }
   ],
   "source": [
    "# Create an empty DataFrame to store the results\n",
    "res_qda = []\n",
    "\n",
    "# Calculate Accuracy and MCC for the model\n",
    "model_name_qda = f' Quadratic Discriminant Analysis '\n",
    "model_qda = QuadraticDiscriminantAnalysis()\n",
    "model_qda.fit(X_train_processed, y_train)\n",
    "preds_qda = model_qda.predict(X_test_processed)\n",
    "res_qda.append({'Model Name': model_name_qda, 'Accuracy': accuracy_score(y_test, preds_qda), 'MCC': matthews_corrcoef(y_test, preds_qda)})"
   ]
  },
  {
   "cell_type": "markdown",
   "id": "bcf41e15-3c35-433c-866f-69a2db5c2da5",
   "metadata": {},
   "source": [
    "#### 4.2 Tree Based models"
   ]
  },
  {
   "cell_type": "code",
   "execution_count": 95,
   "id": "f887c667-f44d-4ef0-ba8e-5584d7a1baf8",
   "metadata": {},
   "outputs": [],
   "source": [
    "# Create an empty DataFrame to store the results\n",
    "res_dt = []\n",
    "\n",
    "# Define a list of hyperparameters to test\n",
    "min_samples_leaf_range = [1, 5, 10]\n",
    "max_depth_range = [10, 15, 20, 25]\n",
    "\n",
    "# Loop through the models and calculate F1 and MCC for each\n",
    "for msl in min_samples_leaf_range:\n",
    "    for md in max_depth_range:\n",
    "        model_name_dt = f'Decision Tree (msl={msl}, max_depth={md})'\n",
    "        if not any(result_dt['Model Name'] == model_name_dt for result_dt in res_dt):\n",
    "            model_dt = DecisionTreeClassifier(min_samples_leaf = msl, max_depth = md, random_state = 4)\n",
    "            model_dt = model_dt.fit(X_train_processed, y_train)\n",
    "            preds_dt = model_dt.predict(X_test_processed)\n",
    "            res_dt.append({'Model Name': model_name_dt, 'Accuracy': accuracy_score(y_test, preds_dt), 'MCC': matthews_corrcoef(y_test, preds_dt)})"
   ]
  },
  {
   "cell_type": "markdown",
   "id": "d96e42a2-4687-490a-826e-ddfc3468763d",
   "metadata": {},
   "source": [
    "#### 4.3 Naive Bayes"
   ]
  },
  {
   "cell_type": "code",
   "execution_count": 96,
   "id": "e5208aa5-0b7b-4647-81b3-f07cd53f7dba",
   "metadata": {},
   "outputs": [],
   "source": [
    "# Create an empty DataFrame to store the results\n",
    "res_nb = []\n",
    "\n",
    "# Calculate Accuracy and MCC for the model\n",
    "model_name_nb = f' Gaussian Naive Bayes '\n",
    "model_nb = GaussianNB()\n",
    "model_nb.fit(X_train_processed, y_train)\n",
    "preds_nb = model_nb.predict(X_test_processed)\n",
    "res_nb.append({'Model Name': model_name_nb, 'Accuracy': accuracy_score(y_test, preds_nb), 'MCC': matthews_corrcoef(y_test, preds_nb)})"
   ]
  },
  {
   "cell_type": "markdown",
   "id": "f33befc3-f561-42e5-90d7-60256033c7f6",
   "metadata": {},
   "source": [
    "#### 4.4 K-Nearest Neighbours"
   ]
  },
  {
   "cell_type": "code",
   "execution_count": 97,
   "id": "28f1627b-8fe1-4217-8420-1eac45d6b454",
   "metadata": {},
   "outputs": [],
   "source": [
    "# Create an empty DataFrame to store the results\n",
    "res_knn = []\n",
    "\n",
    "# Define a list of hyperparameters to test\n",
    "ks = np.array([1, 2, 3, 4, 5, 10, 15, 20, 30, 40])\n",
    "\n",
    "# Loop through differente k's and calculate Accuracy and MCC for each model\n",
    "for k in ks:\n",
    "    model_name_knn = f'KNN (k={k})'\n",
    "    if not any(result_knn['Model Name'] == model_name_knn for result_knn in res_knn):\n",
    "        model_knn = KNeighborsClassifier(n_neighbors = k)\n",
    "        model_knn.fit(X_train_processed, y_train)\n",
    "        preds_knn = model_knn.predict(X_test_processed)\n",
    "        res_knn.append({'Model Name': model_name_knn, 'Accuracy': accuracy_score(y_test, preds_knn), 'MCC': matthews_corrcoef(y_test, preds_knn)})"
   ]
  },
  {
   "cell_type": "markdown",
   "id": "fa1e1886-0a3b-4bb2-89e2-a1561b2a77f0",
   "metadata": {},
   "source": [
    "### Step 5. Assessing the quality of the models"
   ]
  },
  {
   "cell_type": "markdown",
   "id": "2b2d8ed9-f6a3-44dd-9514-95c45d700d09",
   "metadata": {},
   "source": [
    "#### 5.1 Linear models"
   ]
  },
  {
   "cell_type": "markdown",
   "id": "daf3745d-dba7-4f56-83d4-458952463d3e",
   "metadata": {},
   "source": [
    "##### 5.1.1 Logistic Regression"
   ]
  },
  {
   "cell_type": "code",
   "execution_count": 98,
   "id": "d7cd5ba0-0729-44ac-9a55-ea8e51dd7f1e",
   "metadata": {},
   "outputs": [
    {
     "data": {
      "text/html": [
       "<div>\n",
       "<style scoped>\n",
       "    .dataframe tbody tr th:only-of-type {\n",
       "        vertical-align: middle;\n",
       "    }\n",
       "\n",
       "    .dataframe tbody tr th {\n",
       "        vertical-align: top;\n",
       "    }\n",
       "\n",
       "    .dataframe thead th {\n",
       "        text-align: right;\n",
       "    }\n",
       "</style>\n",
       "<table border=\"1\" class=\"dataframe\">\n",
       "  <thead>\n",
       "    <tr style=\"text-align: right;\">\n",
       "      <th></th>\n",
       "      <th>Model Name</th>\n",
       "      <th>Accuracy</th>\n",
       "      <th>MCC</th>\n",
       "    </tr>\n",
       "  </thead>\n",
       "  <tbody>\n",
       "    <tr>\n",
       "      <th>4</th>\n",
       "      <td>Logistic Regression (L2) (C=1)</td>\n",
       "      <td>0.776122</td>\n",
       "      <td>0.720117</td>\n",
       "    </tr>\n",
       "    <tr>\n",
       "      <th>3</th>\n",
       "      <td>Logistic Regression (L2) (C=0.1)</td>\n",
       "      <td>0.769617</td>\n",
       "      <td>0.712102</td>\n",
       "    </tr>\n",
       "    <tr>\n",
       "      <th>2</th>\n",
       "      <td>Logistic Regression (L2) (C=0.01)</td>\n",
       "      <td>0.736376</td>\n",
       "      <td>0.671444</td>\n",
       "    </tr>\n",
       "    <tr>\n",
       "      <th>1</th>\n",
       "      <td>Logistic Regression (L2) (C=0.001)</td>\n",
       "      <td>0.664464</td>\n",
       "      <td>0.587194</td>\n",
       "    </tr>\n",
       "  </tbody>\n",
       "</table>\n",
       "</div>"
      ],
      "text/plain": [
       "                           Model Name  Accuracy       MCC\n",
       "4      Logistic Regression (L2) (C=1)  0.776122  0.720117\n",
       "3    Logistic Regression (L2) (C=0.1)  0.769617  0.712102\n",
       "2   Logistic Regression (L2) (C=0.01)  0.736376  0.671444\n",
       "1  Logistic Regression (L2) (C=0.001)  0.664464  0.587194"
      ]
     },
     "execution_count": 98,
     "metadata": {},
     "output_type": "execute_result"
    }
   ],
   "source": [
    "# Create a DataFrame from the list of logistic regression results\n",
    "Best_lr = pd.DataFrame(res_lr)\n",
    "Best_lr = Best_lr.sort_values(by=\"MCC\", ascending=False)\n",
    "\n",
    "# Examine Top 4 models\n",
    "Best_lr[:4]"
   ]
  },
  {
   "cell_type": "markdown",
   "id": "71b0725a-794e-4419-9f90-2c7bf2820109",
   "metadata": {},
   "source": [
    "##### 5.1.2 Linear Discriminant Analysis"
   ]
  },
  {
   "cell_type": "code",
   "execution_count": 99,
   "id": "9404e8b4-0039-4989-b8d3-765f60b3de41",
   "metadata": {},
   "outputs": [
    {
     "data": {
      "text/html": [
       "<div>\n",
       "<style scoped>\n",
       "    .dataframe tbody tr th:only-of-type {\n",
       "        vertical-align: middle;\n",
       "    }\n",
       "\n",
       "    .dataframe tbody tr th {\n",
       "        vertical-align: top;\n",
       "    }\n",
       "\n",
       "    .dataframe thead th {\n",
       "        text-align: right;\n",
       "    }\n",
       "</style>\n",
       "<table border=\"1\" class=\"dataframe\">\n",
       "  <thead>\n",
       "    <tr style=\"text-align: right;\">\n",
       "      <th></th>\n",
       "      <th>Model Name</th>\n",
       "      <th>Accuracy</th>\n",
       "      <th>MCC</th>\n",
       "    </tr>\n",
       "  </thead>\n",
       "  <tbody>\n",
       "    <tr>\n",
       "      <th>0</th>\n",
       "      <td>Linear Discriminant Analyss (solver=svd)</td>\n",
       "      <td>0.755941</td>\n",
       "      <td>0.694853</td>\n",
       "    </tr>\n",
       "    <tr>\n",
       "      <th>1</th>\n",
       "      <td>Linear Discriminant Analyss (solver=lsqr)</td>\n",
       "      <td>0.755941</td>\n",
       "      <td>0.694853</td>\n",
       "    </tr>\n",
       "    <tr>\n",
       "      <th>2</th>\n",
       "      <td>Linear Discriminant Analyss (solver=eigen)</td>\n",
       "      <td>0.755941</td>\n",
       "      <td>0.694853</td>\n",
       "    </tr>\n",
       "  </tbody>\n",
       "</table>\n",
       "</div>"
      ],
      "text/plain": [
       "                                   Model Name  Accuracy       MCC\n",
       "0    Linear Discriminant Analyss (solver=svd)  0.755941  0.694853\n",
       "1   Linear Discriminant Analyss (solver=lsqr)  0.755941  0.694853\n",
       "2  Linear Discriminant Analyss (solver=eigen)  0.755941  0.694853"
      ]
     },
     "execution_count": 99,
     "metadata": {},
     "output_type": "execute_result"
    }
   ],
   "source": [
    "# Create a DataFrame from the list of logistic regression results\n",
    "Best_lda = pd.DataFrame(res_lda)\n",
    "Best_lda = Best_lda.sort_values(by=\"MCC\", ascending=False)\n",
    "\n",
    "# Examine Top 3 models\n",
    "Best_lda[:3]"
   ]
  },
  {
   "cell_type": "markdown",
   "id": "4c5ee23a-9fee-47f4-b359-79bb57e602a8",
   "metadata": {},
   "source": [
    "##### 5.1.3 Quadratic Discriminant Analysis"
   ]
  },
  {
   "cell_type": "code",
   "execution_count": 100,
   "id": "ece78999-cce3-41b9-9bcc-adfad53f85a5",
   "metadata": {},
   "outputs": [
    {
     "data": {
      "text/html": [
       "<div>\n",
       "<style scoped>\n",
       "    .dataframe tbody tr th:only-of-type {\n",
       "        vertical-align: middle;\n",
       "    }\n",
       "\n",
       "    .dataframe tbody tr th {\n",
       "        vertical-align: top;\n",
       "    }\n",
       "\n",
       "    .dataframe thead th {\n",
       "        text-align: right;\n",
       "    }\n",
       "</style>\n",
       "<table border=\"1\" class=\"dataframe\">\n",
       "  <thead>\n",
       "    <tr style=\"text-align: right;\">\n",
       "      <th></th>\n",
       "      <th>Model Name</th>\n",
       "      <th>Accuracy</th>\n",
       "      <th>MCC</th>\n",
       "    </tr>\n",
       "  </thead>\n",
       "  <tbody>\n",
       "    <tr>\n",
       "      <th>0</th>\n",
       "      <td>Quadratic Discriminant Analysis</td>\n",
       "      <td>0.557621</td>\n",
       "      <td>0.523725</td>\n",
       "    </tr>\n",
       "  </tbody>\n",
       "</table>\n",
       "</div>"
      ],
      "text/plain": [
       "                          Model Name  Accuracy       MCC\n",
       "0   Quadratic Discriminant Analysis   0.557621  0.523725"
      ]
     },
     "execution_count": 100,
     "metadata": {},
     "output_type": "execute_result"
    }
   ],
   "source": [
    "# Create a DataFrame from the list of results\n",
    "Best_qda = pd.DataFrame(res_qda)\n",
    "Best_qda = Best_qda.sort_values(by=\"MCC\", ascending=False)\n",
    "\n",
    "# Examine model result\n",
    "Best_qda[:1]"
   ]
  },
  {
   "cell_type": "markdown",
   "id": "cc98731f-3caf-4106-929d-1d1758dead4f",
   "metadata": {},
   "source": [
    "#### 5.2 Tree Based models"
   ]
  },
  {
   "cell_type": "code",
   "execution_count": 101,
   "id": "82c447a9-2543-4c6a-8e50-7b7da09f7e42",
   "metadata": {},
   "outputs": [
    {
     "data": {
      "text/html": [
       "<div>\n",
       "<style scoped>\n",
       "    .dataframe tbody tr th:only-of-type {\n",
       "        vertical-align: middle;\n",
       "    }\n",
       "\n",
       "    .dataframe tbody tr th {\n",
       "        vertical-align: top;\n",
       "    }\n",
       "\n",
       "    .dataframe thead th {\n",
       "        text-align: right;\n",
       "    }\n",
       "</style>\n",
       "<table border=\"1\" class=\"dataframe\">\n",
       "  <thead>\n",
       "    <tr style=\"text-align: right;\">\n",
       "      <th></th>\n",
       "      <th>Model Name</th>\n",
       "      <th>Accuracy</th>\n",
       "      <th>MCC</th>\n",
       "    </tr>\n",
       "  </thead>\n",
       "  <tbody>\n",
       "    <tr>\n",
       "      <th>3</th>\n",
       "      <td>Decision Tree (msl=1, max_depth=25)</td>\n",
       "      <td>0.958410</td>\n",
       "      <td>0.947983</td>\n",
       "    </tr>\n",
       "    <tr>\n",
       "      <th>2</th>\n",
       "      <td>Decision Tree (msl=1, max_depth=20)</td>\n",
       "      <td>0.958052</td>\n",
       "      <td>0.947538</td>\n",
       "    </tr>\n",
       "    <tr>\n",
       "      <th>6</th>\n",
       "      <td>Decision Tree (msl=5, max_depth=20)</td>\n",
       "      <td>0.952059</td>\n",
       "      <td>0.940037</td>\n",
       "    </tr>\n",
       "    <tr>\n",
       "      <th>7</th>\n",
       "      <td>Decision Tree (msl=5, max_depth=25)</td>\n",
       "      <td>0.951393</td>\n",
       "      <td>0.939206</td>\n",
       "    </tr>\n",
       "  </tbody>\n",
       "</table>\n",
       "</div>"
      ],
      "text/plain": [
       "                            Model Name  Accuracy       MCC\n",
       "3  Decision Tree (msl=1, max_depth=25)  0.958410  0.947983\n",
       "2  Decision Tree (msl=1, max_depth=20)  0.958052  0.947538\n",
       "6  Decision Tree (msl=5, max_depth=20)  0.952059  0.940037\n",
       "7  Decision Tree (msl=5, max_depth=25)  0.951393  0.939206"
      ]
     },
     "execution_count": 101,
     "metadata": {},
     "output_type": "execute_result"
    }
   ],
   "source": [
    "# Create a DataFrame from the list of results\n",
    "Best_dt = pd.DataFrame(res_dt)\n",
    "Best_dt = Best_dt.sort_values(by=\"MCC\", ascending=False)\n",
    "\n",
    "# Examine Top 4 models\n",
    "Best_dt[:4]"
   ]
  },
  {
   "cell_type": "markdown",
   "id": "72acb76e-9d56-4cb8-a2c7-bd460bd9723b",
   "metadata": {},
   "source": [
    "#### 5.3 Naive Bayes"
   ]
  },
  {
   "cell_type": "code",
   "execution_count": 102,
   "id": "966c0bf1-b10f-473b-ac5e-73b736b64138",
   "metadata": {},
   "outputs": [
    {
     "data": {
      "text/html": [
       "<div>\n",
       "<style scoped>\n",
       "    .dataframe tbody tr th:only-of-type {\n",
       "        vertical-align: middle;\n",
       "    }\n",
       "\n",
       "    .dataframe tbody tr th {\n",
       "        vertical-align: top;\n",
       "    }\n",
       "\n",
       "    .dataframe thead th {\n",
       "        text-align: right;\n",
       "    }\n",
       "</style>\n",
       "<table border=\"1\" class=\"dataframe\">\n",
       "  <thead>\n",
       "    <tr style=\"text-align: right;\">\n",
       "      <th></th>\n",
       "      <th>Model Name</th>\n",
       "      <th>Accuracy</th>\n",
       "      <th>MCC</th>\n",
       "    </tr>\n",
       "  </thead>\n",
       "  <tbody>\n",
       "    <tr>\n",
       "      <th>0</th>\n",
       "      <td>Gaussian Naive Bayes</td>\n",
       "      <td>0.514034</td>\n",
       "      <td>0.457007</td>\n",
       "    </tr>\n",
       "  </tbody>\n",
       "</table>\n",
       "</div>"
      ],
      "text/plain": [
       "               Model Name  Accuracy       MCC\n",
       "0   Gaussian Naive Bayes   0.514034  0.457007"
      ]
     },
     "execution_count": 102,
     "metadata": {},
     "output_type": "execute_result"
    }
   ],
   "source": [
    "# Create a DataFrame from the list of results\n",
    "Best_nb = pd.DataFrame(res_nb)\n",
    "Best_nb = Best_nb.sort_values(by=\"MCC\", ascending=False)\n",
    "\n",
    "# Examine model result\n",
    "Best_nb[:1]"
   ]
  },
  {
   "cell_type": "markdown",
   "id": "b08b2c22-0de4-43eb-9b23-8efe5867150c",
   "metadata": {},
   "source": [
    "#### 5.4 K-Nearest Neighbours"
   ]
  },
  {
   "cell_type": "code",
   "execution_count": 103,
   "id": "b9f12089-ebbb-4720-8447-c8a19ce15ee4",
   "metadata": {},
   "outputs": [
    {
     "data": {
      "text/html": [
       "<div>\n",
       "<style scoped>\n",
       "    .dataframe tbody tr th:only-of-type {\n",
       "        vertical-align: middle;\n",
       "    }\n",
       "\n",
       "    .dataframe tbody tr th {\n",
       "        vertical-align: top;\n",
       "    }\n",
       "\n",
       "    .dataframe thead th {\n",
       "        text-align: right;\n",
       "    }\n",
       "</style>\n",
       "<table border=\"1\" class=\"dataframe\">\n",
       "  <thead>\n",
       "    <tr style=\"text-align: right;\">\n",
       "      <th></th>\n",
       "      <th>Model Name</th>\n",
       "      <th>Accuracy</th>\n",
       "      <th>MCC</th>\n",
       "    </tr>\n",
       "  </thead>\n",
       "  <tbody>\n",
       "    <tr>\n",
       "      <th>0</th>\n",
       "      <td>KNN (k=1)</td>\n",
       "      <td>0.960459</td>\n",
       "      <td>0.950596</td>\n",
       "    </tr>\n",
       "    <tr>\n",
       "      <th>2</th>\n",
       "      <td>KNN (k=3)</td>\n",
       "      <td>0.951752</td>\n",
       "      <td>0.939803</td>\n",
       "    </tr>\n",
       "    <tr>\n",
       "      <th>4</th>\n",
       "      <td>KNN (k=5)</td>\n",
       "      <td>0.943352</td>\n",
       "      <td>0.929408</td>\n",
       "    </tr>\n",
       "    <tr>\n",
       "      <th>1</th>\n",
       "      <td>KNN (k=2)</td>\n",
       "      <td>0.942379</td>\n",
       "      <td>0.928622</td>\n",
       "    </tr>\n",
       "  </tbody>\n",
       "</table>\n",
       "</div>"
      ],
      "text/plain": [
       "  Model Name  Accuracy       MCC\n",
       "0  KNN (k=1)  0.960459  0.950596\n",
       "2  KNN (k=3)  0.951752  0.939803\n",
       "4  KNN (k=5)  0.943352  0.929408\n",
       "1  KNN (k=2)  0.942379  0.928622"
      ]
     },
     "execution_count": 103,
     "metadata": {},
     "output_type": "execute_result"
    }
   ],
   "source": [
    "# Create a DataFrame from the list of results\n",
    "Best_knn = pd.DataFrame(res_knn)\n",
    "Best_knn = Best_knn.sort_values(by=\"MCC\", ascending=False)\n",
    "\n",
    "# Examine model result\n",
    "Best_knn[:4]"
   ]
  },
  {
   "cell_type": "code",
   "execution_count": 106,
   "id": "aa1b965c-e748-49ea-8132-6affcceb9837",
   "metadata": {},
   "outputs": [
    {
     "data": {
      "image/png": "[encoded data removed]",
      "text/plain": [
       "<Figure size 640x480 with 1 Axes>"
      ]
     },
     "metadata": {},
     "output_type": "display_data"
    }
   ],
   "source": [
    "# Define a set of K neighbours\n",
    "ks = np.array([1, 2, 3, 4, 5, 10, 15, 20, 30, 40])\n",
    "accs = np.zeros(ks.shape[0])\n",
    "mccs = np.zeros(ks.shape[0])\n",
    "\n",
    "# Loop through differente k's and calculate Accuracy Score\n",
    "for i,k in enumerate(ks):\n",
    "    model_knn = KNeighborsClassifier(n_neighbors=k)\n",
    "    model_knn.fit(X_train_processed, y_train)\n",
    "    preds_knn = model_knn.predict(X_test_processed)\n",
    "    accs[i] = accuracy_score(y_test, preds_knn)\n",
    "    mccs[i] = matthews_corrcoef(y_test, preds_knn)\n",
    "\n",
    "# Plot results\n",
    "plt.plot(ks, accs, color = \"sienna\", label = \"Accuracy Score\")\n",
    "plt.plot(ks, mccs, color = \"royalblue\", label = \"Matthews Correlation Coefficient\")\n",
    "plt.grid()\n",
    "plt.legend(loc = \"upper right\")\n",
    "plt.ylim(0.78,1)\n",
    "plt.show()"
   ]
  },
  {
   "cell_type": "markdown",
   "id": "e051dc46-37c0-4716-ad18-b4c6f8e2f478",
   "metadata": {},
   "source": [
    "#### 5.5 Select best model and fit the model with all the Training Set Data"
   ]
  },
  {
   "cell_type": "markdown",
   "id": "1e10d7d8-9d06-4fe3-ac30-09c0774aaaf5",
   "metadata": {},
   "source": [
    "List the classification models according to MCC"
   ]
  },
  {
   "cell_type": "code",
   "execution_count": 107,
   "id": "8f8edb7d-7934-4107-871e-e05dfa19216e",
   "metadata": {},
   "outputs": [
    {
     "data": {
      "text/html": [
       "<div>\n",
       "<style scoped>\n",
       "    .dataframe tbody tr th:only-of-type {\n",
       "        vertical-align: middle;\n",
       "    }\n",
       "\n",
       "    .dataframe tbody tr th {\n",
       "        vertical-align: top;\n",
       "    }\n",
       "\n",
       "    .dataframe thead th {\n",
       "        text-align: right;\n",
       "    }\n",
       "</style>\n",
       "<table border=\"1\" class=\"dataframe\">\n",
       "  <thead>\n",
       "    <tr style=\"text-align: right;\">\n",
       "      <th></th>\n",
       "      <th>Model Name</th>\n",
       "      <th>Accuracy</th>\n",
       "      <th>MCC</th>\n",
       "    </tr>\n",
       "  </thead>\n",
       "  <tbody>\n",
       "    <tr>\n",
       "      <th>0</th>\n",
       "      <td>KNN (k=1)</td>\n",
       "      <td>0.960459</td>\n",
       "      <td>0.950596</td>\n",
       "    </tr>\n",
       "    <tr>\n",
       "      <th>3</th>\n",
       "      <td>Decision Tree (msl=1, max_depth=25)</td>\n",
       "      <td>0.958410</td>\n",
       "      <td>0.947983</td>\n",
       "    </tr>\n",
       "    <tr>\n",
       "      <th>2</th>\n",
       "      <td>Decision Tree (msl=1, max_depth=20)</td>\n",
       "      <td>0.958052</td>\n",
       "      <td>0.947538</td>\n",
       "    </tr>\n",
       "    <tr>\n",
       "      <th>6</th>\n",
       "      <td>Decision Tree (msl=5, max_depth=20)</td>\n",
       "      <td>0.952059</td>\n",
       "      <td>0.940037</td>\n",
       "    </tr>\n",
       "    <tr>\n",
       "      <th>2</th>\n",
       "      <td>KNN (k=3)</td>\n",
       "      <td>0.951752</td>\n",
       "      <td>0.939803</td>\n",
       "    </tr>\n",
       "    <tr>\n",
       "      <th>7</th>\n",
       "      <td>Decision Tree (msl=5, max_depth=25)</td>\n",
       "      <td>0.951393</td>\n",
       "      <td>0.939206</td>\n",
       "    </tr>\n",
       "    <tr>\n",
       "      <th>4</th>\n",
       "      <td>KNN (k=5)</td>\n",
       "      <td>0.943352</td>\n",
       "      <td>0.929408</td>\n",
       "    </tr>\n",
       "    <tr>\n",
       "      <th>1</th>\n",
       "      <td>KNN (k=2)</td>\n",
       "      <td>0.942379</td>\n",
       "      <td>0.928622</td>\n",
       "    </tr>\n",
       "    <tr>\n",
       "      <th>4</th>\n",
       "      <td>Logistic Regression (L2) (C=1)</td>\n",
       "      <td>0.776122</td>\n",
       "      <td>0.720117</td>\n",
       "    </tr>\n",
       "    <tr>\n",
       "      <th>3</th>\n",
       "      <td>Logistic Regression (L2) (C=0.1)</td>\n",
       "      <td>0.769617</td>\n",
       "      <td>0.712102</td>\n",
       "    </tr>\n",
       "  </tbody>\n",
       "</table>\n",
       "</div>"
      ],
      "text/plain": [
       "                            Model Name  Accuracy       MCC\n",
       "0                            KNN (k=1)  0.960459  0.950596\n",
       "3  Decision Tree (msl=1, max_depth=25)  0.958410  0.947983\n",
       "2  Decision Tree (msl=1, max_depth=20)  0.958052  0.947538\n",
       "6  Decision Tree (msl=5, max_depth=20)  0.952059  0.940037\n",
       "2                            KNN (k=3)  0.951752  0.939803\n",
       "7  Decision Tree (msl=5, max_depth=25)  0.951393  0.939206\n",
       "4                            KNN (k=5)  0.943352  0.929408\n",
       "1                            KNN (k=2)  0.942379  0.928622\n",
       "4       Logistic Regression (L2) (C=1)  0.776122  0.720117\n",
       "3     Logistic Regression (L2) (C=0.1)  0.769617  0.712102"
      ]
     },
     "execution_count": 107,
     "metadata": {},
     "output_type": "execute_result"
    }
   ],
   "source": [
    "Best_Models = pd.concat([Best_lr[:4], Best_lda[:3], Best_qda[:1], Best_dt[:4], Best_nb[:1], Best_knn[:4]])\n",
    "Best_Models = Best_Models.sort_values(by=\"MCC\", ascending=False)\n",
    "Best_Models[:10]"
   ]
  },
  {
   "cell_type": "code",
   "execution_count": 116,
   "id": "7bdd9c3a",
   "metadata": {},
   "outputs": [],
   "source": [
    "k = 1\n",
    "# Fit best model with all the Training Set Data\n",
    "Best_Model = KNeighborsClassifier(n_neighbors = k)\n",
    "Best_Model = Best_Model.fit(X_train_processed, y_train)"
   ]
  },
  {
   "cell_type": "code",
   "execution_count": 119,
   "id": "9dca2a4b",
   "metadata": {},
   "outputs": [
    {
     "name": "stdout",
     "output_type": "stream",
     "text": [
      "These are the statistics for the selected Classification Model:\n",
      "The Accuracy score is:  0.9605\n",
      "The Matthews correlation coefficient is:  0.9506\n",
      "This is the Confusion Matrix\n"
     ]
    },
    {
     "data": {
      "text/html": [
       "<div>\n",
       "<style scoped>\n",
       "    .dataframe tbody tr th:only-of-type {\n",
       "        vertical-align: middle;\n",
       "    }\n",
       "\n",
       "    .dataframe tbody tr th {\n",
       "        vertical-align: top;\n",
       "    }\n",
       "\n",
       "    .dataframe thead th {\n",
       "        text-align: right;\n",
       "    }\n",
       "</style>\n",
       "<table border=\"1\" class=\"dataframe\">\n",
       "  <thead>\n",
       "    <tr style=\"text-align: right;\">\n",
       "      <th></th>\n",
       "      <th>0</th>\n",
       "      <th>1</th>\n",
       "      <th>2</th>\n",
       "      <th>3</th>\n",
       "      <th>4</th>\n",
       "    </tr>\n",
       "  </thead>\n",
       "  <tbody>\n",
       "    <tr>\n",
       "      <th>0</th>\n",
       "      <td>4052</td>\n",
       "      <td>9</td>\n",
       "      <td>2</td>\n",
       "      <td>0</td>\n",
       "      <td>0</td>\n",
       "    </tr>\n",
       "    <tr>\n",
       "      <th>1</th>\n",
       "      <td>10</td>\n",
       "      <td>3529</td>\n",
       "      <td>18</td>\n",
       "      <td>90</td>\n",
       "      <td>106</td>\n",
       "    </tr>\n",
       "    <tr>\n",
       "      <th>2</th>\n",
       "      <td>35</td>\n",
       "      <td>1</td>\n",
       "      <td>4093</td>\n",
       "      <td>53</td>\n",
       "      <td>3</td>\n",
       "    </tr>\n",
       "    <tr>\n",
       "      <th>3</th>\n",
       "      <td>22</td>\n",
       "      <td>8</td>\n",
       "      <td>147</td>\n",
       "      <td>3477</td>\n",
       "      <td>3</td>\n",
       "    </tr>\n",
       "    <tr>\n",
       "      <th>4</th>\n",
       "      <td>9</td>\n",
       "      <td>188</td>\n",
       "      <td>29</td>\n",
       "      <td>39</td>\n",
       "      <td>3601</td>\n",
       "    </tr>\n",
       "  </tbody>\n",
       "</table>\n",
       "</div>"
      ],
      "text/plain": [
       "      0     1     2     3     4\n",
       "0  4052     9     2     0     0\n",
       "1    10  3529    18    90   106\n",
       "2    35     1  4093    53     3\n",
       "3    22     8   147  3477     3\n",
       "4     9   188    29    39  3601"
      ]
     },
     "execution_count": 119,
     "metadata": {},
     "output_type": "execute_result"
    }
   ],
   "source": [
    "df_preds = Best_Model.predict(X_test_processed)\n",
    "print(\"These are the statistics for the selected Classification Model:\")\n",
    "print(\"The Accuracy score is: %7.4f\" % accuracy_score(y_test, df_preds))\n",
    "print(\"The Matthews correlation coefficient is: %7.4f\" % matthews_corrcoef(y_test, df_preds))\n",
    "print(\"This is the Confusion Matrix\")\n",
    "pd.DataFrame(confusion_matrix(y_test, df_preds))"
   ]
  }
 ],
 "metadata": {
  "kernelspec": {
   "display_name": "Python 3 (ipykernel)",
   "language": "python",
   "name": "python3"
  },
  "language_info": {
   "codemirror_mode": {
    "name": "ipython",
    "version": 3
   },
   "file_extension": ".py",
   "mimetype": "text/x-python",
   "name": "python",
   "nbconvert_exporter": "python",
   "pygments_lexer": "ipython3",
   "version": "3.11.4"
  }
 },
 "nbformat": 4,
 "nbformat_minor": 5
}
